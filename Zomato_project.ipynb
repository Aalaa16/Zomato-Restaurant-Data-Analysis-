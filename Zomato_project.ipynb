{
 "cells": [
  {
   "cell_type": "code",
   "execution_count": 1,
   "id": "af0c3dc6",
   "metadata": {},
   "outputs": [],
   "source": [
    "import pandas as pd\n",
    "import numpy as np\n",
    "import seaborn as sns\n",
    "import matplotlib.pyplot as plt"
   ]
  },
  {
   "cell_type": "code",
   "execution_count": 218,
   "id": "b7178993",
   "metadata": {},
   "outputs": [],
   "source": [
    "df=pd.read_csv('zomato.csv')"
   ]
  },
  {
   "cell_type": "code",
   "execution_count": 219,
   "id": "83f1d639",
   "metadata": {},
   "outputs": [
    {
     "data": {
      "text/html": [
       "<div>\n",
       "<style scoped>\n",
       "    .dataframe tbody tr th:only-of-type {\n",
       "        vertical-align: middle;\n",
       "    }\n",
       "\n",
       "    .dataframe tbody tr th {\n",
       "        vertical-align: top;\n",
       "    }\n",
       "\n",
       "    .dataframe thead th {\n",
       "        text-align: right;\n",
       "    }\n",
       "</style>\n",
       "<table border=\"1\" class=\"dataframe\">\n",
       "  <thead>\n",
       "    <tr style=\"text-align: right;\">\n",
       "      <th></th>\n",
       "      <th>url</th>\n",
       "      <th>address</th>\n",
       "      <th>name</th>\n",
       "      <th>online_order</th>\n",
       "      <th>book_table</th>\n",
       "      <th>rate</th>\n",
       "      <th>votes</th>\n",
       "      <th>phone</th>\n",
       "      <th>location</th>\n",
       "      <th>rest_type</th>\n",
       "      <th>dish_liked</th>\n",
       "      <th>cuisines</th>\n",
       "      <th>approx_cost(for two people)</th>\n",
       "      <th>reviews_list</th>\n",
       "      <th>menu_item</th>\n",
       "      <th>listed_in(type)</th>\n",
       "      <th>listed_in(city)</th>\n",
       "    </tr>\n",
       "  </thead>\n",
       "  <tbody>\n",
       "    <tr>\n",
       "      <th>0</th>\n",
       "      <td>https://www.zomato.com/bangalore/jalsa-banasha...</td>\n",
       "      <td>942, 21st Main Road, 2nd Stage, Banashankari, ...</td>\n",
       "      <td>Jalsa</td>\n",
       "      <td>Yes</td>\n",
       "      <td>Yes</td>\n",
       "      <td>4.1/5</td>\n",
       "      <td>775</td>\n",
       "      <td>080 42297555\\r\\n+91 9743772233</td>\n",
       "      <td>Banashankari</td>\n",
       "      <td>Casual Dining</td>\n",
       "      <td>Pasta, Lunch Buffet, Masala Papad, Paneer Laja...</td>\n",
       "      <td>North Indian, Mughlai, Chinese</td>\n",
       "      <td>800</td>\n",
       "      <td>[('Rated 4.0', 'RATED\\n  A beautiful place to ...</td>\n",
       "      <td>[]</td>\n",
       "      <td>Buffet</td>\n",
       "      <td>Banashankari</td>\n",
       "    </tr>\n",
       "    <tr>\n",
       "      <th>1</th>\n",
       "      <td>https://www.zomato.com/bangalore/spice-elephan...</td>\n",
       "      <td>2nd Floor, 80 Feet Road, Near Big Bazaar, 6th ...</td>\n",
       "      <td>Spice Elephant</td>\n",
       "      <td>Yes</td>\n",
       "      <td>No</td>\n",
       "      <td>4.1/5</td>\n",
       "      <td>787</td>\n",
       "      <td>080 41714161</td>\n",
       "      <td>Banashankari</td>\n",
       "      <td>Casual Dining</td>\n",
       "      <td>Momos, Lunch Buffet, Chocolate Nirvana, Thai G...</td>\n",
       "      <td>Chinese, North Indian, Thai</td>\n",
       "      <td>800</td>\n",
       "      <td>[('Rated 4.0', 'RATED\\n  Had been here for din...</td>\n",
       "      <td>[]</td>\n",
       "      <td>Buffet</td>\n",
       "      <td>Banashankari</td>\n",
       "    </tr>\n",
       "  </tbody>\n",
       "</table>\n",
       "</div>"
      ],
      "text/plain": [
       "                                                 url  \\\n",
       "0  https://www.zomato.com/bangalore/jalsa-banasha...   \n",
       "1  https://www.zomato.com/bangalore/spice-elephan...   \n",
       "\n",
       "                                             address            name  \\\n",
       "0  942, 21st Main Road, 2nd Stage, Banashankari, ...           Jalsa   \n",
       "1  2nd Floor, 80 Feet Road, Near Big Bazaar, 6th ...  Spice Elephant   \n",
       "\n",
       "  online_order book_table   rate  votes                           phone  \\\n",
       "0          Yes        Yes  4.1/5    775  080 42297555\\r\\n+91 9743772233   \n",
       "1          Yes         No  4.1/5    787                    080 41714161   \n",
       "\n",
       "       location      rest_type  \\\n",
       "0  Banashankari  Casual Dining   \n",
       "1  Banashankari  Casual Dining   \n",
       "\n",
       "                                          dish_liked  \\\n",
       "0  Pasta, Lunch Buffet, Masala Papad, Paneer Laja...   \n",
       "1  Momos, Lunch Buffet, Chocolate Nirvana, Thai G...   \n",
       "\n",
       "                         cuisines approx_cost(for two people)  \\\n",
       "0  North Indian, Mughlai, Chinese                         800   \n",
       "1     Chinese, North Indian, Thai                         800   \n",
       "\n",
       "                                        reviews_list menu_item  \\\n",
       "0  [('Rated 4.0', 'RATED\\n  A beautiful place to ...        []   \n",
       "1  [('Rated 4.0', 'RATED\\n  Had been here for din...        []   \n",
       "\n",
       "  listed_in(type) listed_in(city)  \n",
       "0          Buffet    Banashankari  \n",
       "1          Buffet    Banashankari  "
      ]
     },
     "execution_count": 219,
     "metadata": {},
     "output_type": "execute_result"
    }
   ],
   "source": [
    "df.head(2)"
   ]
  },
  {
   "cell_type": "code",
   "execution_count": 220,
   "id": "1fd6ed8a",
   "metadata": {
    "scrolled": true
   },
   "outputs": [
    {
     "name": "stdout",
     "output_type": "stream",
     "text": [
      "<class 'pandas.core.frame.DataFrame'>\n",
      "RangeIndex: 51717 entries, 0 to 51716\n",
      "Data columns (total 17 columns):\n",
      " #   Column                       Non-Null Count  Dtype \n",
      "---  ------                       --------------  ----- \n",
      " 0   url                          51717 non-null  object\n",
      " 1   address                      51717 non-null  object\n",
      " 2   name                         51717 non-null  object\n",
      " 3   online_order                 51717 non-null  object\n",
      " 4   book_table                   51717 non-null  object\n",
      " 5   rate                         43942 non-null  object\n",
      " 6   votes                        51717 non-null  int64 \n",
      " 7   phone                        50509 non-null  object\n",
      " 8   location                     51696 non-null  object\n",
      " 9   rest_type                    51490 non-null  object\n",
      " 10  dish_liked                   23639 non-null  object\n",
      " 11  cuisines                     51672 non-null  object\n",
      " 12  approx_cost(for two people)  51371 non-null  object\n",
      " 13  reviews_list                 51717 non-null  object\n",
      " 14  menu_item                    51717 non-null  object\n",
      " 15  listed_in(type)              51717 non-null  object\n",
      " 16  listed_in(city)              51717 non-null  object\n",
      "dtypes: int64(1), object(16)\n",
      "memory usage: 6.7+ MB\n"
     ]
    }
   ],
   "source": [
    "df.info()"
   ]
  },
  {
   "cell_type": "code",
   "execution_count": 221,
   "id": "b4da4325",
   "metadata": {
    "scrolled": true
   },
   "outputs": [
    {
     "data": {
      "text/plain": [
       "url                                0\n",
       "address                            0\n",
       "name                               0\n",
       "online_order                       0\n",
       "book_table                         0\n",
       "rate                            7775\n",
       "votes                              0\n",
       "phone                           1208\n",
       "location                          21\n",
       "rest_type                        227\n",
       "dish_liked                     28078\n",
       "cuisines                          45\n",
       "approx_cost(for two people)      346\n",
       "reviews_list                       0\n",
       "menu_item                          0\n",
       "listed_in(type)                    0\n",
       "listed_in(city)                    0\n",
       "dtype: int64"
      ]
     },
     "execution_count": 221,
     "metadata": {},
     "output_type": "execute_result"
    }
   ],
   "source": [
    "df.isnull().sum()"
   ]
  },
  {
   "cell_type": "code",
   "execution_count": 222,
   "id": "96277424",
   "metadata": {},
   "outputs": [],
   "source": [
    "columns = ['url','address','name','phone','dish_liked','reviews_list','menu_item']\n",
    "df.drop(columns, inplace=True, axis=1)"
   ]
  },
  {
   "cell_type": "code",
   "execution_count": 223,
   "id": "06f82477",
   "metadata": {
    "scrolled": true
   },
   "outputs": [
    {
     "name": "stdout",
     "output_type": "stream",
     "text": [
      "<class 'pandas.core.frame.DataFrame'>\n",
      "RangeIndex: 51717 entries, 0 to 51716\n",
      "Data columns (total 10 columns):\n",
      " #   Column                       Non-Null Count  Dtype \n",
      "---  ------                       --------------  ----- \n",
      " 0   online_order                 51717 non-null  object\n",
      " 1   book_table                   51717 non-null  object\n",
      " 2   rate                         43942 non-null  object\n",
      " 3   votes                        51717 non-null  int64 \n",
      " 4   location                     51696 non-null  object\n",
      " 5   rest_type                    51490 non-null  object\n",
      " 6   cuisines                     51672 non-null  object\n",
      " 7   approx_cost(for two people)  51371 non-null  object\n",
      " 8   listed_in(type)              51717 non-null  object\n",
      " 9   listed_in(city)              51717 non-null  object\n",
      "dtypes: int64(1), object(9)\n",
      "memory usage: 3.9+ MB\n"
     ]
    }
   ],
   "source": [
    "df.info()"
   ]
  },
  {
   "cell_type": "code",
   "execution_count": 224,
   "id": "fe4b9657",
   "metadata": {
    "scrolled": false
   },
   "outputs": [
    {
     "data": {
      "text/plain": [
       "array(['4.1/5', '3.8/5', '3.7/5', '3.6/5', '4.6/5', '4.0/5', '4.2/5',\n",
       "       '3.9/5', '3.1/5', '3.0/5', '3.2/5', '3.3/5', '2.8/5', '4.4/5',\n",
       "       '4.3/5', 'NEW', '2.9/5', '3.5/5', nan, '2.6/5', '3.8 /5', '3.4/5',\n",
       "       '4.5/5', '2.5/5', '2.7/5', '4.7/5', '2.4/5', '2.2/5', '2.3/5',\n",
       "       '3.4 /5', '-', '3.6 /5', '4.8/5', '3.9 /5', '4.2 /5', '4.0 /5',\n",
       "       '4.1 /5', '3.7 /5', '3.1 /5', '2.9 /5', '3.3 /5', '2.8 /5',\n",
       "       '3.5 /5', '2.7 /5', '2.5 /5', '3.2 /5', '2.6 /5', '4.5 /5',\n",
       "       '4.3 /5', '4.4 /5', '4.9/5', '2.1/5', '2.0/5', '1.8/5', '4.6 /5',\n",
       "       '4.9 /5', '3.0 /5', '4.8 /5', '2.3 /5', '4.7 /5', '2.4 /5',\n",
       "       '2.1 /5', '2.2 /5', '2.0 /5', '1.8 /5'], dtype=object)"
      ]
     },
     "execution_count": 224,
     "metadata": {},
     "output_type": "execute_result"
    }
   ],
   "source": [
    "df['rate'].unique()"
   ]
  },
  {
   "cell_type": "code",
   "execution_count": 225,
   "id": "b3e7cc50",
   "metadata": {},
   "outputs": [],
   "source": [
    "df.dropna(subset = ['rate'], inplace=True)"
   ]
  },
  {
   "cell_type": "code",
   "execution_count": 226,
   "id": "62a9980c",
   "metadata": {},
   "outputs": [
    {
     "data": {
      "text/html": [
       "<div>\n",
       "<style scoped>\n",
       "    .dataframe tbody tr th:only-of-type {\n",
       "        vertical-align: middle;\n",
       "    }\n",
       "\n",
       "    .dataframe tbody tr th {\n",
       "        vertical-align: top;\n",
       "    }\n",
       "\n",
       "    .dataframe thead th {\n",
       "        text-align: right;\n",
       "    }\n",
       "</style>\n",
       "<table border=\"1\" class=\"dataframe\">\n",
       "  <thead>\n",
       "    <tr style=\"text-align: right;\">\n",
       "      <th></th>\n",
       "      <th>online_order</th>\n",
       "      <th>book_table</th>\n",
       "      <th>rate</th>\n",
       "      <th>votes</th>\n",
       "      <th>location</th>\n",
       "      <th>rest_type</th>\n",
       "      <th>cuisines</th>\n",
       "      <th>approx_cost(for two people)</th>\n",
       "      <th>listed_in(type)</th>\n",
       "      <th>listed_in(city)</th>\n",
       "    </tr>\n",
       "  </thead>\n",
       "  <tbody>\n",
       "    <tr>\n",
       "      <th>72</th>\n",
       "      <td>No</td>\n",
       "      <td>No</td>\n",
       "      <td>NEW</td>\n",
       "      <td>0</td>\n",
       "      <td>Banashankari</td>\n",
       "      <td>Quick Bites</td>\n",
       "      <td>North Indian</td>\n",
       "      <td>150</td>\n",
       "      <td>Delivery</td>\n",
       "      <td>Banashankari</td>\n",
       "    </tr>\n",
       "    <tr>\n",
       "      <th>75</th>\n",
       "      <td>No</td>\n",
       "      <td>No</td>\n",
       "      <td>NEW</td>\n",
       "      <td>0</td>\n",
       "      <td>Banashankari</td>\n",
       "      <td>Takeaway, Delivery</td>\n",
       "      <td>Street Food, Fast Food</td>\n",
       "      <td>500</td>\n",
       "      <td>Delivery</td>\n",
       "      <td>Banashankari</td>\n",
       "    </tr>\n",
       "    <tr>\n",
       "      <th>110</th>\n",
       "      <td>No</td>\n",
       "      <td>No</td>\n",
       "      <td>NEW</td>\n",
       "      <td>0</td>\n",
       "      <td>Banashankari</td>\n",
       "      <td>Takeaway, Delivery</td>\n",
       "      <td>Sandwich, Pizza, Beverages</td>\n",
       "      <td>200</td>\n",
       "      <td>Delivery</td>\n",
       "      <td>Banashankari</td>\n",
       "    </tr>\n",
       "    <tr>\n",
       "      <th>130</th>\n",
       "      <td>No</td>\n",
       "      <td>No</td>\n",
       "      <td>NEW</td>\n",
       "      <td>0</td>\n",
       "      <td>Banashankari</td>\n",
       "      <td>Takeaway, Delivery</td>\n",
       "      <td>Biryani, Rolls, Chinese</td>\n",
       "      <td>200</td>\n",
       "      <td>Delivery</td>\n",
       "      <td>Banashankari</td>\n",
       "    </tr>\n",
       "    <tr>\n",
       "      <th>131</th>\n",
       "      <td>No</td>\n",
       "      <td>No</td>\n",
       "      <td>NEW</td>\n",
       "      <td>0</td>\n",
       "      <td>Banashankari</td>\n",
       "      <td>Quick Bites</td>\n",
       "      <td>North Indian</td>\n",
       "      <td>100</td>\n",
       "      <td>Delivery</td>\n",
       "      <td>Banashankari</td>\n",
       "    </tr>\n",
       "    <tr>\n",
       "      <th>...</th>\n",
       "      <td>...</td>\n",
       "      <td>...</td>\n",
       "      <td>...</td>\n",
       "      <td>...</td>\n",
       "      <td>...</td>\n",
       "      <td>...</td>\n",
       "      <td>...</td>\n",
       "      <td>...</td>\n",
       "      <td>...</td>\n",
       "      <td>...</td>\n",
       "    </tr>\n",
       "    <tr>\n",
       "      <th>51585</th>\n",
       "      <td>No</td>\n",
       "      <td>No</td>\n",
       "      <td>NEW</td>\n",
       "      <td>0</td>\n",
       "      <td>Whitefield</td>\n",
       "      <td>Quick Bites</td>\n",
       "      <td>North Indian</td>\n",
       "      <td>200</td>\n",
       "      <td>Dine-out</td>\n",
       "      <td>Whitefield</td>\n",
       "    </tr>\n",
       "    <tr>\n",
       "      <th>51586</th>\n",
       "      <td>Yes</td>\n",
       "      <td>No</td>\n",
       "      <td>NEW</td>\n",
       "      <td>0</td>\n",
       "      <td>Whitefield</td>\n",
       "      <td>Quick Bites</td>\n",
       "      <td>Chinese</td>\n",
       "      <td>200</td>\n",
       "      <td>Dine-out</td>\n",
       "      <td>Whitefield</td>\n",
       "    </tr>\n",
       "    <tr>\n",
       "      <th>51603</th>\n",
       "      <td>Yes</td>\n",
       "      <td>No</td>\n",
       "      <td>NEW</td>\n",
       "      <td>0</td>\n",
       "      <td>Whitefield</td>\n",
       "      <td>Quick Bites, Food Court</td>\n",
       "      <td>South Indian, Chinese, North Indian</td>\n",
       "      <td>250</td>\n",
       "      <td>Dine-out</td>\n",
       "      <td>Whitefield</td>\n",
       "    </tr>\n",
       "    <tr>\n",
       "      <th>51604</th>\n",
       "      <td>No</td>\n",
       "      <td>No</td>\n",
       "      <td>NEW</td>\n",
       "      <td>0</td>\n",
       "      <td>Whitefield</td>\n",
       "      <td>Takeaway, Delivery</td>\n",
       "      <td>Biryani, Mughlai</td>\n",
       "      <td>400</td>\n",
       "      <td>Dine-out</td>\n",
       "      <td>Whitefield</td>\n",
       "    </tr>\n",
       "    <tr>\n",
       "      <th>51605</th>\n",
       "      <td>No</td>\n",
       "      <td>No</td>\n",
       "      <td>NEW</td>\n",
       "      <td>0</td>\n",
       "      <td>Whitefield</td>\n",
       "      <td>Quick Bites</td>\n",
       "      <td>Chinese, North Indian</td>\n",
       "      <td>300</td>\n",
       "      <td>Dine-out</td>\n",
       "      <td>Whitefield</td>\n",
       "    </tr>\n",
       "  </tbody>\n",
       "</table>\n",
       "<p>2208 rows × 10 columns</p>\n",
       "</div>"
      ],
      "text/plain": [
       "      online_order book_table rate  votes      location  \\\n",
       "72              No         No  NEW      0  Banashankari   \n",
       "75              No         No  NEW      0  Banashankari   \n",
       "110             No         No  NEW      0  Banashankari   \n",
       "130             No         No  NEW      0  Banashankari   \n",
       "131             No         No  NEW      0  Banashankari   \n",
       "...            ...        ...  ...    ...           ...   \n",
       "51585           No         No  NEW      0    Whitefield   \n",
       "51586          Yes         No  NEW      0    Whitefield   \n",
       "51603          Yes         No  NEW      0    Whitefield   \n",
       "51604           No         No  NEW      0    Whitefield   \n",
       "51605           No         No  NEW      0    Whitefield   \n",
       "\n",
       "                     rest_type                             cuisines  \\\n",
       "72                 Quick Bites                         North Indian   \n",
       "75          Takeaway, Delivery               Street Food, Fast Food   \n",
       "110         Takeaway, Delivery           Sandwich, Pizza, Beverages   \n",
       "130         Takeaway, Delivery              Biryani, Rolls, Chinese   \n",
       "131                Quick Bites                         North Indian   \n",
       "...                        ...                                  ...   \n",
       "51585              Quick Bites                         North Indian   \n",
       "51586              Quick Bites                              Chinese   \n",
       "51603  Quick Bites, Food Court  South Indian, Chinese, North Indian   \n",
       "51604       Takeaway, Delivery                     Biryani, Mughlai   \n",
       "51605              Quick Bites                Chinese, North Indian   \n",
       "\n",
       "      approx_cost(for two people) listed_in(type) listed_in(city)  \n",
       "72                            150        Delivery    Banashankari  \n",
       "75                            500        Delivery    Banashankari  \n",
       "110                           200        Delivery    Banashankari  \n",
       "130                           200        Delivery    Banashankari  \n",
       "131                           100        Delivery    Banashankari  \n",
       "...                           ...             ...             ...  \n",
       "51585                         200        Dine-out      Whitefield  \n",
       "51586                         200        Dine-out      Whitefield  \n",
       "51603                         250        Dine-out      Whitefield  \n",
       "51604                         400        Dine-out      Whitefield  \n",
       "51605                         300        Dine-out      Whitefield  \n",
       "\n",
       "[2208 rows x 10 columns]"
      ]
     },
     "execution_count": 226,
     "metadata": {},
     "output_type": "execute_result"
    }
   ],
   "source": [
    "df.loc[df[\"rate\"] == 'NEW']"
   ]
  },
  {
   "cell_type": "code",
   "execution_count": 227,
   "id": "faa14b67",
   "metadata": {},
   "outputs": [
    {
     "data": {
      "text/html": [
       "<div>\n",
       "<style scoped>\n",
       "    .dataframe tbody tr th:only-of-type {\n",
       "        vertical-align: middle;\n",
       "    }\n",
       "\n",
       "    .dataframe tbody tr th {\n",
       "        vertical-align: top;\n",
       "    }\n",
       "\n",
       "    .dataframe thead th {\n",
       "        text-align: right;\n",
       "    }\n",
       "</style>\n",
       "<table border=\"1\" class=\"dataframe\">\n",
       "  <thead>\n",
       "    <tr style=\"text-align: right;\">\n",
       "      <th></th>\n",
       "      <th>online_order</th>\n",
       "      <th>book_table</th>\n",
       "      <th>rate</th>\n",
       "      <th>votes</th>\n",
       "      <th>location</th>\n",
       "      <th>rest_type</th>\n",
       "      <th>cuisines</th>\n",
       "      <th>approx_cost(for two people)</th>\n",
       "      <th>listed_in(type)</th>\n",
       "      <th>listed_in(city)</th>\n",
       "    </tr>\n",
       "  </thead>\n",
       "  <tbody>\n",
       "    <tr>\n",
       "      <th>3068</th>\n",
       "      <td>No</td>\n",
       "      <td>No</td>\n",
       "      <td>-</td>\n",
       "      <td>0</td>\n",
       "      <td>Wilson Garden</td>\n",
       "      <td>Quick Bites</td>\n",
       "      <td>North Indian</td>\n",
       "      <td>400</td>\n",
       "      <td>Delivery</td>\n",
       "      <td>Basavanagudi</td>\n",
       "    </tr>\n",
       "    <tr>\n",
       "      <th>3069</th>\n",
       "      <td>No</td>\n",
       "      <td>No</td>\n",
       "      <td>-</td>\n",
       "      <td>0</td>\n",
       "      <td>Bannerghatta Road</td>\n",
       "      <td>Quick Bites</td>\n",
       "      <td>North Indian, Chinese, South Indian</td>\n",
       "      <td>NaN</td>\n",
       "      <td>Delivery</td>\n",
       "      <td>Basavanagudi</td>\n",
       "    </tr>\n",
       "    <tr>\n",
       "      <th>3373</th>\n",
       "      <td>Yes</td>\n",
       "      <td>No</td>\n",
       "      <td>-</td>\n",
       "      <td>0</td>\n",
       "      <td>Basavanagudi</td>\n",
       "      <td>Quick Bites</td>\n",
       "      <td>Pizza</td>\n",
       "      <td>300</td>\n",
       "      <td>Dine-out</td>\n",
       "      <td>Basavanagudi</td>\n",
       "    </tr>\n",
       "    <tr>\n",
       "      <th>3378</th>\n",
       "      <td>Yes</td>\n",
       "      <td>No</td>\n",
       "      <td>-</td>\n",
       "      <td>0</td>\n",
       "      <td>Basavanagudi</td>\n",
       "      <td>Quick Bites</td>\n",
       "      <td>Chinese, North Indian</td>\n",
       "      <td>300</td>\n",
       "      <td>Dine-out</td>\n",
       "      <td>Basavanagudi</td>\n",
       "    </tr>\n",
       "    <tr>\n",
       "      <th>3387</th>\n",
       "      <td>No</td>\n",
       "      <td>No</td>\n",
       "      <td>-</td>\n",
       "      <td>0</td>\n",
       "      <td>Basavanagudi</td>\n",
       "      <td>Quick Bites</td>\n",
       "      <td>North Indian, Biryani, Fast Food</td>\n",
       "      <td>300</td>\n",
       "      <td>Dine-out</td>\n",
       "      <td>Basavanagudi</td>\n",
       "    </tr>\n",
       "    <tr>\n",
       "      <th>...</th>\n",
       "      <td>...</td>\n",
       "      <td>...</td>\n",
       "      <td>...</td>\n",
       "      <td>...</td>\n",
       "      <td>...</td>\n",
       "      <td>...</td>\n",
       "      <td>...</td>\n",
       "      <td>...</td>\n",
       "      <td>...</td>\n",
       "      <td>...</td>\n",
       "    </tr>\n",
       "    <tr>\n",
       "      <th>33454</th>\n",
       "      <td>No</td>\n",
       "      <td>No</td>\n",
       "      <td>-</td>\n",
       "      <td>0</td>\n",
       "      <td>BTM</td>\n",
       "      <td>Quick Bites</td>\n",
       "      <td>South Indian, North Indian, Chinese</td>\n",
       "      <td>300</td>\n",
       "      <td>Delivery</td>\n",
       "      <td>Koramangala 6th Block</td>\n",
       "    </tr>\n",
       "    <tr>\n",
       "      <th>33463</th>\n",
       "      <td>No</td>\n",
       "      <td>No</td>\n",
       "      <td>-</td>\n",
       "      <td>0</td>\n",
       "      <td>BTM</td>\n",
       "      <td>Casual Dining</td>\n",
       "      <td>North Indian, South Indian, Chinese, Kerala</td>\n",
       "      <td>500</td>\n",
       "      <td>Delivery</td>\n",
       "      <td>Koramangala 6th Block</td>\n",
       "    </tr>\n",
       "    <tr>\n",
       "      <th>45646</th>\n",
       "      <td>Yes</td>\n",
       "      <td>No</td>\n",
       "      <td>-</td>\n",
       "      <td>0</td>\n",
       "      <td>Old Airport Road</td>\n",
       "      <td>Quick Bites</td>\n",
       "      <td>South Indian, North Indian, Chinese, Beverages</td>\n",
       "      <td>400</td>\n",
       "      <td>Dine-out</td>\n",
       "      <td>Old Airport Road</td>\n",
       "    </tr>\n",
       "    <tr>\n",
       "      <th>45647</th>\n",
       "      <td>Yes</td>\n",
       "      <td>No</td>\n",
       "      <td>-</td>\n",
       "      <td>0</td>\n",
       "      <td>Old Airport Road</td>\n",
       "      <td>Beverage Shop</td>\n",
       "      <td>Beverages</td>\n",
       "      <td>250</td>\n",
       "      <td>Dine-out</td>\n",
       "      <td>Old Airport Road</td>\n",
       "    </tr>\n",
       "    <tr>\n",
       "      <th>48139</th>\n",
       "      <td>No</td>\n",
       "      <td>No</td>\n",
       "      <td>-</td>\n",
       "      <td>0</td>\n",
       "      <td>Residency Road</td>\n",
       "      <td>Cafe</td>\n",
       "      <td>North Indian, South American, Cafe</td>\n",
       "      <td>200</td>\n",
       "      <td>Dine-out</td>\n",
       "      <td>Residency Road</td>\n",
       "    </tr>\n",
       "  </tbody>\n",
       "</table>\n",
       "<p>69 rows × 10 columns</p>\n",
       "</div>"
      ],
      "text/plain": [
       "      online_order book_table rate  votes           location      rest_type  \\\n",
       "3068            No         No    -      0      Wilson Garden    Quick Bites   \n",
       "3069            No         No    -      0  Bannerghatta Road    Quick Bites   \n",
       "3373           Yes         No    -      0       Basavanagudi    Quick Bites   \n",
       "3378           Yes         No    -      0       Basavanagudi    Quick Bites   \n",
       "3387            No         No    -      0       Basavanagudi    Quick Bites   \n",
       "...            ...        ...  ...    ...                ...            ...   \n",
       "33454           No         No    -      0                BTM    Quick Bites   \n",
       "33463           No         No    -      0                BTM  Casual Dining   \n",
       "45646          Yes         No    -      0   Old Airport Road    Quick Bites   \n",
       "45647          Yes         No    -      0   Old Airport Road  Beverage Shop   \n",
       "48139           No         No    -      0     Residency Road           Cafe   \n",
       "\n",
       "                                             cuisines  \\\n",
       "3068                                     North Indian   \n",
       "3069              North Indian, Chinese, South Indian   \n",
       "3373                                            Pizza   \n",
       "3378                            Chinese, North Indian   \n",
       "3387                 North Indian, Biryani, Fast Food   \n",
       "...                                               ...   \n",
       "33454             South Indian, North Indian, Chinese   \n",
       "33463     North Indian, South Indian, Chinese, Kerala   \n",
       "45646  South Indian, North Indian, Chinese, Beverages   \n",
       "45647                                       Beverages   \n",
       "48139              North Indian, South American, Cafe   \n",
       "\n",
       "      approx_cost(for two people) listed_in(type)        listed_in(city)  \n",
       "3068                          400        Delivery           Basavanagudi  \n",
       "3069                          NaN        Delivery           Basavanagudi  \n",
       "3373                          300        Dine-out           Basavanagudi  \n",
       "3378                          300        Dine-out           Basavanagudi  \n",
       "3387                          300        Dine-out           Basavanagudi  \n",
       "...                           ...             ...                    ...  \n",
       "33454                         300        Delivery  Koramangala 6th Block  \n",
       "33463                         500        Delivery  Koramangala 6th Block  \n",
       "45646                         400        Dine-out       Old Airport Road  \n",
       "45647                         250        Dine-out       Old Airport Road  \n",
       "48139                         200        Dine-out         Residency Road  \n",
       "\n",
       "[69 rows x 10 columns]"
      ]
     },
     "execution_count": 227,
     "metadata": {},
     "output_type": "execute_result"
    }
   ],
   "source": [
    "df.loc[df[\"rate\"] == '-']"
   ]
  },
  {
   "cell_type": "code",
   "execution_count": 228,
   "id": "7ed4c35d",
   "metadata": {},
   "outputs": [],
   "source": [
    "list1 = ['NEW','-']\n",
    "df=df[df.rate.isin(list1) == False]"
   ]
  },
  {
   "cell_type": "code",
   "execution_count": 229,
   "id": "6e2b3cbe",
   "metadata": {},
   "outputs": [],
   "source": [
    "df['rate'] = df['rate'].str.split('/').str[0].astype(float)"
   ]
  },
  {
   "cell_type": "code",
   "execution_count": 230,
   "id": "f61fda63",
   "metadata": {
    "scrolled": false
   },
   "outputs": [
    {
     "data": {
      "text/plain": [
       "array([4.1, 3.8, 3.7, 3.6, 4.6, 4. , 4.2, 3.9, 3.1, 3. , 3.2, 3.3, 2.8,\n",
       "       4.4, 4.3, 2.9, 3.5, 2.6, 3.4, 4.5, 2.5, 2.7, 4.7, 2.4, 2.2, 2.3,\n",
       "       4.8, 4.9, 2.1, 2. , 1.8])"
      ]
     },
     "execution_count": 230,
     "metadata": {},
     "output_type": "execute_result"
    }
   ],
   "source": [
    "df['rate'].unique()"
   ]
  },
  {
   "cell_type": "code",
   "execution_count": 231,
   "id": "81145c20",
   "metadata": {},
   "outputs": [],
   "source": [
    "df['rate'] = df['rate'].apply(lambda x: 1 if x > 3.75 else 0)\n",
    "df = df.rename(columns={'rate': 'Target'})"
   ]
  },
  {
   "cell_type": "code",
   "execution_count": 232,
   "id": "df4bf829",
   "metadata": {},
   "outputs": [],
   "source": [
    "df['approx_cost(for two people)'] = df['approx_cost(for two people)'].str.replace(',', '').astype(float)"
   ]
  },
  {
   "cell_type": "code",
   "execution_count": 233,
   "id": "153d2415",
   "metadata": {},
   "outputs": [
    {
     "data": {
      "text/html": [
       "<div>\n",
       "<style scoped>\n",
       "    .dataframe tbody tr th:only-of-type {\n",
       "        vertical-align: middle;\n",
       "    }\n",
       "\n",
       "    .dataframe tbody tr th {\n",
       "        vertical-align: top;\n",
       "    }\n",
       "\n",
       "    .dataframe thead th {\n",
       "        text-align: right;\n",
       "    }\n",
       "</style>\n",
       "<table border=\"1\" class=\"dataframe\">\n",
       "  <thead>\n",
       "    <tr style=\"text-align: right;\">\n",
       "      <th></th>\n",
       "      <th>online_order</th>\n",
       "      <th>book_table</th>\n",
       "      <th>Target</th>\n",
       "      <th>votes</th>\n",
       "      <th>location</th>\n",
       "      <th>rest_type</th>\n",
       "      <th>cuisines</th>\n",
       "      <th>approx_cost(for two people)</th>\n",
       "      <th>listed_in(type)</th>\n",
       "      <th>listed_in(city)</th>\n",
       "    </tr>\n",
       "  </thead>\n",
       "  <tbody>\n",
       "    <tr>\n",
       "      <th>0</th>\n",
       "      <td>Yes</td>\n",
       "      <td>Yes</td>\n",
       "      <td>1</td>\n",
       "      <td>775</td>\n",
       "      <td>Banashankari</td>\n",
       "      <td>Casual Dining</td>\n",
       "      <td>North Indian, Mughlai, Chinese</td>\n",
       "      <td>800.0</td>\n",
       "      <td>Buffet</td>\n",
       "      <td>Banashankari</td>\n",
       "    </tr>\n",
       "    <tr>\n",
       "      <th>1</th>\n",
       "      <td>Yes</td>\n",
       "      <td>No</td>\n",
       "      <td>1</td>\n",
       "      <td>787</td>\n",
       "      <td>Banashankari</td>\n",
       "      <td>Casual Dining</td>\n",
       "      <td>Chinese, North Indian, Thai</td>\n",
       "      <td>800.0</td>\n",
       "      <td>Buffet</td>\n",
       "      <td>Banashankari</td>\n",
       "    </tr>\n",
       "    <tr>\n",
       "      <th>2</th>\n",
       "      <td>Yes</td>\n",
       "      <td>No</td>\n",
       "      <td>1</td>\n",
       "      <td>918</td>\n",
       "      <td>Banashankari</td>\n",
       "      <td>Cafe, Casual Dining</td>\n",
       "      <td>Cafe, Mexican, Italian</td>\n",
       "      <td>800.0</td>\n",
       "      <td>Buffet</td>\n",
       "      <td>Banashankari</td>\n",
       "    </tr>\n",
       "    <tr>\n",
       "      <th>3</th>\n",
       "      <td>No</td>\n",
       "      <td>No</td>\n",
       "      <td>0</td>\n",
       "      <td>88</td>\n",
       "      <td>Banashankari</td>\n",
       "      <td>Quick Bites</td>\n",
       "      <td>South Indian, North Indian</td>\n",
       "      <td>300.0</td>\n",
       "      <td>Buffet</td>\n",
       "      <td>Banashankari</td>\n",
       "    </tr>\n",
       "    <tr>\n",
       "      <th>4</th>\n",
       "      <td>No</td>\n",
       "      <td>No</td>\n",
       "      <td>1</td>\n",
       "      <td>166</td>\n",
       "      <td>Basavanagudi</td>\n",
       "      <td>Casual Dining</td>\n",
       "      <td>North Indian, Rajasthani</td>\n",
       "      <td>600.0</td>\n",
       "      <td>Buffet</td>\n",
       "      <td>Banashankari</td>\n",
       "    </tr>\n",
       "  </tbody>\n",
       "</table>\n",
       "</div>"
      ],
      "text/plain": [
       "  online_order book_table  Target  votes      location            rest_type  \\\n",
       "0          Yes        Yes       1    775  Banashankari        Casual Dining   \n",
       "1          Yes         No       1    787  Banashankari        Casual Dining   \n",
       "2          Yes         No       1    918  Banashankari  Cafe, Casual Dining   \n",
       "3           No         No       0     88  Banashankari          Quick Bites   \n",
       "4           No         No       1    166  Basavanagudi        Casual Dining   \n",
       "\n",
       "                         cuisines  approx_cost(for two people)  \\\n",
       "0  North Indian, Mughlai, Chinese                        800.0   \n",
       "1     Chinese, North Indian, Thai                        800.0   \n",
       "2          Cafe, Mexican, Italian                        800.0   \n",
       "3      South Indian, North Indian                        300.0   \n",
       "4        North Indian, Rajasthani                        600.0   \n",
       "\n",
       "  listed_in(type) listed_in(city)  \n",
       "0          Buffet    Banashankari  \n",
       "1          Buffet    Banashankari  \n",
       "2          Buffet    Banashankari  \n",
       "3          Buffet    Banashankari  \n",
       "4          Buffet    Banashankari  "
      ]
     },
     "execution_count": 233,
     "metadata": {},
     "output_type": "execute_result"
    }
   ],
   "source": [
    "df.head()"
   ]
  },
  {
   "cell_type": "code",
   "execution_count": 234,
   "id": "48a373f8",
   "metadata": {},
   "outputs": [
    {
     "data": {
      "text/plain": [
       "online_order                     0\n",
       "book_table                       0\n",
       "Target                           0\n",
       "votes                            0\n",
       "location                         0\n",
       "rest_type                      149\n",
       "cuisines                        11\n",
       "approx_cost(for two people)    247\n",
       "listed_in(type)                  0\n",
       "listed_in(city)                  0\n",
       "dtype: int64"
      ]
     },
     "execution_count": 234,
     "metadata": {},
     "output_type": "execute_result"
    }
   ],
   "source": [
    "df.isnull().sum()"
   ]
  },
  {
   "cell_type": "code",
   "execution_count": 235,
   "id": "4f3384ee",
   "metadata": {},
   "outputs": [],
   "source": [
    "df=df.dropna()"
   ]
  },
  {
   "cell_type": "code",
   "execution_count": 236,
   "id": "b219ef90",
   "metadata": {
    "scrolled": true
   },
   "outputs": [
    {
     "data": {
      "text/plain": [
       "99"
      ]
     },
     "execution_count": 236,
     "metadata": {},
     "output_type": "execute_result"
    }
   ],
   "source": [
    "df.duplicated().sum()"
   ]
  },
  {
   "cell_type": "code",
   "execution_count": 237,
   "id": "f5f38dcd",
   "metadata": {
    "scrolled": false
   },
   "outputs": [],
   "source": [
    "df=df.drop_duplicates()"
   ]
  },
  {
   "cell_type": "code",
   "execution_count": 238,
   "id": "7a454c95",
   "metadata": {
    "scrolled": true
   },
   "outputs": [
    {
     "name": "stdout",
     "output_type": "stream",
     "text": [
      "<class 'pandas.core.frame.DataFrame'>\n",
      "Index: 41164 entries, 0 to 51716\n",
      "Data columns (total 10 columns):\n",
      " #   Column                       Non-Null Count  Dtype  \n",
      "---  ------                       --------------  -----  \n",
      " 0   online_order                 41164 non-null  object \n",
      " 1   book_table                   41164 non-null  object \n",
      " 2   Target                       41164 non-null  int64  \n",
      " 3   votes                        41164 non-null  int64  \n",
      " 4   location                     41164 non-null  object \n",
      " 5   rest_type                    41164 non-null  object \n",
      " 6   cuisines                     41164 non-null  object \n",
      " 7   approx_cost(for two people)  41164 non-null  float64\n",
      " 8   listed_in(type)              41164 non-null  object \n",
      " 9   listed_in(city)              41164 non-null  object \n",
      "dtypes: float64(1), int64(2), object(7)\n",
      "memory usage: 3.5+ MB\n"
     ]
    }
   ],
   "source": [
    "df.info()"
   ]
  },
  {
   "cell_type": "code",
   "execution_count": 239,
   "id": "fd17abec",
   "metadata": {},
   "outputs": [
    {
     "data": {
      "text/plain": [
       "Target\n",
       "0    21128\n",
       "1    20036\n",
       "Name: count, dtype: int64"
      ]
     },
     "execution_count": 239,
     "metadata": {},
     "output_type": "execute_result"
    }
   ],
   "source": [
    "df['Target'].value_counts()"
   ]
  },
  {
   "cell_type": "code",
   "execution_count": 240,
   "id": "aa14d2e2",
   "metadata": {},
   "outputs": [
    {
     "data": {
      "text/plain": [
       "Index(['online_order', 'book_table', 'Target', 'votes', 'location',\n",
       "       'rest_type', 'cuisines', 'approx_cost(for two people)',\n",
       "       'listed_in(type)', 'listed_in(city)'],\n",
       "      dtype='object')"
      ]
     },
     "execution_count": 240,
     "metadata": {},
     "output_type": "execute_result"
    }
   ],
   "source": [
    "df.columns"
   ]
  },
  {
   "cell_type": "code",
   "execution_count": 241,
   "id": "0639d4e4",
   "metadata": {
    "scrolled": false
   },
   "outputs": [
    {
     "data": {
      "text/plain": [
       "<Axes: xlabel='online_order', ylabel='count'>"
      ]
     },
     "execution_count": 241,
     "metadata": {},
     "output_type": "execute_result"
    },
    {
     "data": {
      "image/png": "[encoded data removed]",
      "text/plain": [
       "<Figure size 1000x2000 with 1 Axes>"
      ]
     },
     "metadata": {},
     "output_type": "display_data"
    }
   ],
   "source": [
    "sns.countplot(df, x=\"online_order\", hue=\"Target\")"
   ]
  },
  {
   "cell_type": "markdown",
   "id": "809c4fce",
   "metadata": {},
   "source": [
    "It seems like online ordering affects on our target."
   ]
  },
  {
   "cell_type": "code",
   "execution_count": 242,
   "id": "891ea940",
   "metadata": {
    "scrolled": true
   },
   "outputs": [
    {
     "data": {
      "text/plain": [
       "<Axes: xlabel='book_table', ylabel='count'>"
      ]
     },
     "execution_count": 242,
     "metadata": {},
     "output_type": "execute_result"
    },
    {
     "data": {
      "image/png": "[encoded data removed]",
      "text/plain": [
       "<Figure size 1000x300 with 1 Axes>"
      ]
     },
     "metadata": {},
     "output_type": "display_data"
    }
   ],
   "source": [
    "sns.set(rc={'figure.figsize':(10,3)})\n",
    "sns.countplot(df, x=\"book_table\", hue=\"Target\")"
   ]
  },
  {
   "cell_type": "markdown",
   "id": "4562dda9",
   "metadata": {},
   "source": [
    "The availability of booking table affects the target obviously."
   ]
  },
  {
   "cell_type": "code",
   "execution_count": 243,
   "id": "76a41fcd",
   "metadata": {},
   "outputs": [
    {
     "data": {
      "text/plain": [
       "<Axes: xlabel='votes', ylabel='Target'>"
      ]
     },
     "execution_count": 243,
     "metadata": {},
     "output_type": "execute_result"
    },
    {
     "data": {
      "image/png": "[encoded data removed]",
      "text/plain": [
       "<Figure size 1000x300 with 1 Axes>"
      ]
     },
     "metadata": {},
     "output_type": "display_data"
    }
   ],
   "source": [
    "sns.scatterplot(df, x=\"votes\", y=\"Target\")"
   ]
  },
  {
   "cell_type": "code",
   "execution_count": 244,
   "id": "224bee90",
   "metadata": {
    "scrolled": false
   },
   "outputs": [
    {
     "name": "stderr",
     "output_type": "stream",
     "text": [
      "C:\\Users\\aaa\\anaconda3\\Lib\\site-packages\\seaborn\\axisgrid.py:118: UserWarning: The figure layout has changed to tight\n",
      "  self._figure.tight_layout(*args, **kwargs)\n"
     ]
    },
    {
     "data": {
      "text/plain": [
       "<seaborn.axisgrid.FacetGrid at 0x1953c551190>"
      ]
     },
     "execution_count": 244,
     "metadata": {},
     "output_type": "execute_result"
    },
    {
     "data": {
      "image/png": "[encoded data removed]",
      "text/plain": [
       "<Figure size 563.5x500 with 1 Axes>"
      ]
     },
     "metadata": {},
     "output_type": "display_data"
    }
   ],
   "source": [
    "sns.set(rc={'figure.figsize':(15,3)})\n",
    "sns.displot(data=df, x=\"votes\", kind=\"kde\",hue='Target')"
   ]
  },
  {
   "cell_type": "code",
   "execution_count": 245,
   "id": "37201b64",
   "metadata": {},
   "outputs": [
    {
     "data": {
      "text/plain": [
       "array(['Banashankari', 'Basavanagudi', 'Mysore Road', 'Jayanagar',\n",
       "       'Kumaraswamy Layout', 'Rajarajeshwari Nagar', 'Vijay Nagar',\n",
       "       'Uttarahalli', 'JP Nagar', 'South Bangalore', 'City Market',\n",
       "       'Bannerghatta Road', 'BTM', 'Kanakapura Road', 'Bommanahalli',\n",
       "       'Electronic City', 'Wilson Garden', 'Shanti Nagar',\n",
       "       'Koramangala 5th Block', 'Richmond Road', 'HSR',\n",
       "       'Koramangala 7th Block', 'Bellandur', 'Sarjapur Road',\n",
       "       'Marathahalli', 'Whitefield', 'East Bangalore', 'Old Airport Road',\n",
       "       'Indiranagar', 'Koramangala 1st Block', 'Frazer Town', 'MG Road',\n",
       "       'Brigade Road', 'Lavelle Road', 'Church Street', 'Ulsoor',\n",
       "       'Residency Road', 'Shivajinagar', 'Infantry Road',\n",
       "       'St. Marks Road', 'Cunningham Road', 'Race Course Road',\n",
       "       'Commercial Street', 'Vasanth Nagar', 'Domlur',\n",
       "       'Koramangala 8th Block', 'Ejipura', 'Jeevan Bhima Nagar',\n",
       "       'Old Madras Road', 'Seshadripuram', 'Kammanahalli',\n",
       "       'Koramangala 6th Block', 'Majestic', 'Langford Town',\n",
       "       'Central Bangalore', 'Brookefield', 'ITPL Main Road, Whitefield',\n",
       "       'Varthur Main Road, Whitefield', 'Koramangala 2nd Block',\n",
       "       'Koramangala 3rd Block', 'Koramangala 4th Block', 'Koramangala',\n",
       "       'Hosur Road', 'RT Nagar', 'Banaswadi', 'North Bangalore',\n",
       "       'Nagawara', 'Hennur', 'Kalyan Nagar', 'HBR Layout',\n",
       "       'Rammurthy Nagar', 'Thippasandra', 'CV Raman Nagar',\n",
       "       'Kaggadasapura', 'Kengeri', 'Sankey Road', 'Malleshwaram',\n",
       "       'Sanjay Nagar', 'Sadashiv Nagar', 'Basaveshwara Nagar',\n",
       "       'Rajajinagar', 'Yeshwantpur', 'New BEL Road', 'West Bangalore',\n",
       "       'Magadi Road', 'Yelahanka', 'Sahakara Nagar', 'Jalahalli',\n",
       "       'Hebbal', 'Nagarbhavi', 'Peenya', 'KR Puram'], dtype=object)"
      ]
     },
     "execution_count": 245,
     "metadata": {},
     "output_type": "execute_result"
    }
   ],
   "source": [
    "df['location'].unique()"
   ]
  },
  {
   "cell_type": "code",
   "execution_count": 246,
   "id": "7a1f963c",
   "metadata": {
    "scrolled": true
   },
   "outputs": [
    {
     "data": {
      "text/plain": [
       "92"
      ]
     },
     "execution_count": 246,
     "metadata": {},
     "output_type": "execute_result"
    }
   ],
   "source": [
    "len(df['location'].unique())"
   ]
  },
  {
   "cell_type": "code",
   "execution_count": 247,
   "id": "068b06cd",
   "metadata": {},
   "outputs": [
    {
     "data": {
      "text/plain": [
       "location\n",
       "BTM                      3863\n",
       "Koramangala 5th Block    2295\n",
       "HSR                      1991\n",
       "Indiranagar              1794\n",
       "JP Nagar                 1710\n",
       "                         ... \n",
       "Yelahanka                   4\n",
       "West Bangalore              3\n",
       "Rajarajeshwari Nagar        2\n",
       "Nagarbhavi                  1\n",
       "Peenya                      1\n",
       "Name: count, Length: 92, dtype: int64"
      ]
     },
     "execution_count": 247,
     "metadata": {},
     "output_type": "execute_result"
    }
   ],
   "source": [
    "df['location'].value_counts()"
   ]
  },
  {
   "cell_type": "code",
   "execution_count": 248,
   "id": "15ea588d",
   "metadata": {},
   "outputs": [
    {
     "data": {
      "text/plain": [
       "92"
      ]
     },
     "execution_count": 248,
     "metadata": {},
     "output_type": "execute_result"
    }
   ],
   "source": [
    "df['locations_standardized'] = df['location'].apply(lambda x: ', '.join(sorted(x.split(', '))))\n",
    "\n",
    "unique_values = df['locations_standardized'].unique()\n",
    "len(unique_values)"
   ]
  },
  {
   "cell_type": "markdown",
   "id": "30794df6",
   "metadata": {},
   "source": [
    "There's no repeated values in location column."
   ]
  },
  {
   "cell_type": "code",
   "execution_count": 249,
   "id": "f910a892",
   "metadata": {},
   "outputs": [
    {
     "data": {
      "text/plain": [
       "35"
      ]
     },
     "execution_count": 249,
     "metadata": {},
     "output_type": "execute_result"
    }
   ],
   "source": [
    "threshold = 100\n",
    "category_counts = df['location'].value_counts()\n",
    "rare_categories = category_counts[category_counts <= threshold].index\n",
    "len(rare_categories)\n",
    "#rare_categories"
   ]
  },
  {
   "cell_type": "code",
   "execution_count": 250,
   "id": "55996890",
   "metadata": {},
   "outputs": [],
   "source": [
    "df['other_location_col'] = df['location'].apply(lambda x: 'Other' if x in rare_categories else x)"
   ]
  },
  {
   "cell_type": "code",
   "execution_count": 251,
   "id": "cbc23751",
   "metadata": {},
   "outputs": [
    {
     "data": {
      "text/plain": [
       "58"
      ]
     },
     "execution_count": 251,
     "metadata": {},
     "output_type": "execute_result"
    }
   ],
   "source": [
    "len(df['other_location_col'].unique())"
   ]
  },
  {
   "cell_type": "code",
   "execution_count": 252,
   "id": "1ef7035b",
   "metadata": {
    "scrolled": true
   },
   "outputs": [
    {
     "data": {
      "text/plain": [
       "other_location_col\n",
       "BTM                      3863\n",
       "Koramangala 5th Block    2295\n",
       "HSR                      1991\n",
       "Indiranagar              1794\n",
       "JP Nagar                 1710\n",
       "Jayanagar                1634\n",
       "Whitefield               1565\n",
       "Marathahalli             1407\n",
       "Other                    1309\n",
       "Bannerghatta Road        1223\n",
       "Koramangala 7th Block    1053\n",
       "Koramangala 6th Block    1052\n",
       "Brigade Road             1048\n",
       "Bellandur                 996\n",
       "Sarjapur Road             852\n",
       "Koramangala 1st Block     851\n",
       "Koramangala 4th Block     841\n",
       "Ulsoor                    839\n",
       "Electronic City           832\n",
       "MG Road                   792\n",
       "Banashankari              744\n",
       "Kalyan Nagar              692\n",
       "Malleshwaram              641\n",
       "Richmond Road             603\n",
       "Residency Road            601\n",
       "Basavanagudi              592\n",
       "Frazer Town               563\n",
       "Church Street             543\n",
       "Brookefield               543\n",
       "New BEL Road              506\n",
       "Kammanahalli              492\n",
       "Lavelle Road              476\n",
       "Cunningham Road           474\n",
       "Banaswadi                 463\n",
       "Rajajinagar               458\n",
       "Domlur                    406\n",
       "Shanti Nagar              366\n",
       "Old Airport Road          353\n",
       "St. Marks Road            343\n",
       "Shivajinagar              277\n",
       "Commercial Street         270\n",
       "Ejipura                   255\n",
       "Jeevan Bhima Nagar        247\n",
       "Vasanth Nagar             245\n",
       "Koramangala 8th Block     212\n",
       "Koramangala 3rd Block     190\n",
       "Wilson Garden             187\n",
       "Kumaraswamy Layout        158\n",
       "Nagawara                  157\n",
       "Bommanahalli              144\n",
       "Seshadripuram             142\n",
       "Infantry Road             139\n",
       "Race Course Road          135\n",
       "Basaveshwara Nagar        133\n",
       "Thippasandra              130\n",
       "Hennur                    114\n",
       "Yeshwantpur               112\n",
       "Majestic                  111\n",
       "Name: count, dtype: int64"
      ]
     },
     "execution_count": 252,
     "metadata": {},
     "output_type": "execute_result"
    }
   ],
   "source": [
    "df['other_location_col'].value_counts()"
   ]
  },
  {
   "cell_type": "code",
   "execution_count": 253,
   "id": "d11d4676",
   "metadata": {},
   "outputs": [
    {
     "data": {
      "text/plain": [
       "<Axes: xlabel='count', ylabel='other_location_col'>"
      ]
     },
     "execution_count": 253,
     "metadata": {},
     "output_type": "execute_result"
    },
    {
     "data": {
      "image/png": "[encoded data removed]",
      "text/plain": [
       "<Figure size 1500x2000 with 1 Axes>"
      ]
     },
     "metadata": {},
     "output_type": "display_data"
    }
   ],
   "source": [
    "sns.set(rc={'figure.figsize':(15,20)})\n",
    "sns.countplot(data=df,y='other_location_col', hue='Target')"
   ]
  },
  {
   "cell_type": "code",
   "execution_count": 254,
   "id": "23c68cf0",
   "metadata": {
    "scrolled": true
   },
   "outputs": [
    {
     "data": {
      "text/plain": [
       "array(['Casual Dining', 'Cafe, Casual Dining', 'Quick Bites',\n",
       "       'Casual Dining, Cafe', 'Cafe', 'Quick Bites, Cafe',\n",
       "       'Cafe, Quick Bites', 'Delivery', 'Mess', 'Dessert Parlor',\n",
       "       'Bakery, Dessert Parlor', 'Pub', 'Bakery', 'Takeaway, Delivery',\n",
       "       'Fine Dining', 'Beverage Shop', 'Sweet Shop', 'Bar',\n",
       "       'Dessert Parlor, Sweet Shop', 'Bakery, Quick Bites',\n",
       "       'Sweet Shop, Quick Bites', 'Kiosk', 'Food Truck',\n",
       "       'Quick Bites, Dessert Parlor', 'Beverage Shop, Quick Bites',\n",
       "       'Beverage Shop, Dessert Parlor', 'Takeaway', 'Pub, Casual Dining',\n",
       "       'Casual Dining, Bar', 'Dessert Parlor, Beverage Shop',\n",
       "       'Quick Bites, Bakery', 'Microbrewery, Casual Dining', 'Lounge',\n",
       "       'Bar, Casual Dining', 'Food Court', 'Cafe, Bakery', 'Dhaba',\n",
       "       'Quick Bites, Sweet Shop', 'Microbrewery',\n",
       "       'Food Court, Quick Bites', 'Quick Bites, Beverage Shop',\n",
       "       'Pub, Bar', 'Casual Dining, Pub', 'Lounge, Bar',\n",
       "       'Dessert Parlor, Quick Bites', 'Food Court, Dessert Parlor',\n",
       "       'Casual Dining, Sweet Shop', 'Food Court, Casual Dining',\n",
       "       'Casual Dining, Microbrewery', 'Lounge, Casual Dining',\n",
       "       'Cafe, Food Court', 'Beverage Shop, Cafe', 'Cafe, Dessert Parlor',\n",
       "       'Dessert Parlor, Cafe', 'Dessert Parlor, Bakery',\n",
       "       'Microbrewery, Pub', 'Bakery, Food Court', 'Club',\n",
       "       'Quick Bites, Food Court', 'Bakery, Cafe', 'Pub, Cafe',\n",
       "       'Casual Dining, Irani Cafee', 'Fine Dining, Lounge',\n",
       "       'Bar, Quick Bites', 'Confectionery', 'Pub, Microbrewery',\n",
       "       'Microbrewery, Lounge', 'Fine Dining, Microbrewery',\n",
       "       'Fine Dining, Bar', 'Dessert Parlor, Kiosk', 'Bhojanalya',\n",
       "       'Casual Dining, Quick Bites', 'Cafe, Bar', 'Casual Dining, Lounge',\n",
       "       'Bakery, Beverage Shop', 'Microbrewery, Bar', 'Cafe, Lounge',\n",
       "       'Bar, Pub', 'Lounge, Cafe', 'Club, Casual Dining',\n",
       "       'Quick Bites, Mess', 'Quick Bites, Meat Shop',\n",
       "       'Quick Bites, Kiosk', 'Lounge, Microbrewery',\n",
       "       'Food Court, Beverage Shop', 'Dessert Parlor, Food Court',\n",
       "       'Bar, Lounge'], dtype=object)"
      ]
     },
     "execution_count": 254,
     "metadata": {},
     "output_type": "execute_result"
    }
   ],
   "source": [
    "df['rest_type'].unique()"
   ]
  },
  {
   "cell_type": "code",
   "execution_count": 255,
   "id": "e0eed19a",
   "metadata": {},
   "outputs": [
    {
     "data": {
      "text/plain": [
       "87"
      ]
     },
     "execution_count": 255,
     "metadata": {},
     "output_type": "execute_result"
    }
   ],
   "source": [
    "len(df['rest_type'].unique())"
   ]
  },
  {
   "cell_type": "code",
   "execution_count": 256,
   "id": "84b95bb0",
   "metadata": {
    "scrolled": true
   },
   "outputs": [
    {
     "data": {
      "text/plain": [
       "rest_type\n",
       "Quick Bites                   13842\n",
       "Casual Dining                  9596\n",
       "Cafe                           3364\n",
       "Dessert Parlor                 1848\n",
       "Delivery                       1666\n",
       "                              ...  \n",
       "Food Court, Beverage Shop         2\n",
       "Dessert Parlor, Food Court        2\n",
       "Dessert Parlor, Kiosk             2\n",
       "Bakery, Beverage Shop             1\n",
       "Quick Bites, Kiosk                1\n",
       "Name: count, Length: 87, dtype: int64"
      ]
     },
     "execution_count": 256,
     "metadata": {},
     "output_type": "execute_result"
    }
   ],
   "source": [
    "df['rest_type'].value_counts()"
   ]
  },
  {
   "cell_type": "code",
   "execution_count": 257,
   "id": "45646df6",
   "metadata": {},
   "outputs": [
    {
     "data": {
      "text/plain": [
       "66"
      ]
     },
     "execution_count": 257,
     "metadata": {},
     "output_type": "execute_result"
    }
   ],
   "source": [
    "df['rest_types_standardized'] = df['rest_type'].apply(lambda x: ', '.join(sorted(x.split(', '))))\n",
    "\n",
    "unique_values = df['rest_types_standardized'].unique()\n",
    "len(unique_values)"
   ]
  },
  {
   "cell_type": "markdown",
   "id": "b0b3781b",
   "metadata": {},
   "source": [
    "So , the unique values is decreased in the rest_type column from 87 to 66 value as it seems like there were a hidden repeated values in it. "
   ]
  },
  {
   "cell_type": "code",
   "execution_count": 258,
   "id": "be48c9bf",
   "metadata": {},
   "outputs": [
    {
     "data": {
      "text/plain": [
       "rest_types_standardized\n",
       "Quick Bites                  13842\n",
       "Casual Dining                 9596\n",
       "Cafe                          3364\n",
       "Dessert Parlor                1848\n",
       "Delivery                      1666\n",
       "                             ...  \n",
       "Dessert Parlor, Kiosk            2\n",
       "Cafe, Food Court                 2\n",
       "Beverage Shop, Food Court        2\n",
       "Bakery, Beverage Shop            1\n",
       "Kiosk, Quick Bites               1\n",
       "Name: count, Length: 66, dtype: int64"
      ]
     },
     "execution_count": 258,
     "metadata": {},
     "output_type": "execute_result"
    }
   ],
   "source": [
    "df['rest_types_standardized'].value_counts()"
   ]
  },
  {
   "cell_type": "code",
   "execution_count": 259,
   "id": "50a5175b",
   "metadata": {},
   "outputs": [
    {
     "data": {
      "text/plain": [
       "44"
      ]
     },
     "execution_count": 259,
     "metadata": {},
     "output_type": "execute_result"
    }
   ],
   "source": [
    "threshold = 200\n",
    "category_counts = df['rest_types_standardized'].value_counts()\n",
    "rare_categories = category_counts[category_counts <= threshold].index\n",
    "len(rare_categories)\n",
    "#rare_categories"
   ]
  },
  {
   "cell_type": "code",
   "execution_count": 260,
   "id": "946b047d",
   "metadata": {},
   "outputs": [],
   "source": [
    "df['other_rest_type_col'] = df['rest_types_standardized'].apply(lambda x: 'Other' if x in rare_categories else x)"
   ]
  },
  {
   "cell_type": "code",
   "execution_count": 261,
   "id": "007489d5",
   "metadata": {},
   "outputs": [
    {
     "data": {
      "text/plain": [
       "23"
      ]
     },
     "execution_count": 261,
     "metadata": {},
     "output_type": "execute_result"
    }
   ],
   "source": [
    "len(df['other_rest_type_col'].unique())"
   ]
  },
  {
   "cell_type": "code",
   "execution_count": 262,
   "id": "d2cf4a14",
   "metadata": {},
   "outputs": [
    {
     "data": {
      "text/plain": [
       "<Axes: xlabel='count', ylabel='other_rest_type_col'>"
      ]
     },
     "execution_count": 262,
     "metadata": {},
     "output_type": "execute_result"
    },
    {
     "data": {
      "image/png": "[encoded data removed]",
      "text/plain": [
       "<Figure size 1500x2000 with 1 Axes>"
      ]
     },
     "metadata": {},
     "output_type": "display_data"
    }
   ],
   "source": [
    "sns.set(rc={'figure.figsize':(15,20)})\n",
    "sns.countplot(data=df,y='other_rest_type_col', hue='Target')"
   ]
  },
  {
   "cell_type": "code",
   "execution_count": 263,
   "id": "3168562e",
   "metadata": {},
   "outputs": [
    {
     "data": {
      "text/plain": [
       "2367"
      ]
     },
     "execution_count": 263,
     "metadata": {},
     "output_type": "execute_result"
    }
   ],
   "source": [
    "len(df['cuisines'].unique())"
   ]
  },
  {
   "cell_type": "code",
   "execution_count": 265,
   "id": "1f023da4",
   "metadata": {},
   "outputs": [],
   "source": [
    "df['cuisines'] = df['cuisines'].apply(lambda x: ','.join(x.split(',')[:2]) if len(x.split(',')) >=2 else x)"
   ]
  },
  {
   "cell_type": "code",
   "execution_count": 266,
   "id": "99a91fff",
   "metadata": {},
   "outputs": [
    {
     "data": {
      "text/html": [
       "<div>\n",
       "<style scoped>\n",
       "    .dataframe tbody tr th:only-of-type {\n",
       "        vertical-align: middle;\n",
       "    }\n",
       "\n",
       "    .dataframe tbody tr th {\n",
       "        vertical-align: top;\n",
       "    }\n",
       "\n",
       "    .dataframe thead th {\n",
       "        text-align: right;\n",
       "    }\n",
       "</style>\n",
       "<table border=\"1\" class=\"dataframe\">\n",
       "  <thead>\n",
       "    <tr style=\"text-align: right;\">\n",
       "      <th></th>\n",
       "      <th>online_order</th>\n",
       "      <th>book_table</th>\n",
       "      <th>Target</th>\n",
       "      <th>votes</th>\n",
       "      <th>location</th>\n",
       "      <th>rest_type</th>\n",
       "      <th>cuisines</th>\n",
       "      <th>approx_cost(for two people)</th>\n",
       "      <th>listed_in(type)</th>\n",
       "      <th>listed_in(city)</th>\n",
       "      <th>locations_standardized</th>\n",
       "      <th>other_location_col</th>\n",
       "      <th>rest_types_standardized</th>\n",
       "      <th>other_rest_type_col</th>\n",
       "    </tr>\n",
       "  </thead>\n",
       "  <tbody>\n",
       "    <tr>\n",
       "      <th>0</th>\n",
       "      <td>Yes</td>\n",
       "      <td>Yes</td>\n",
       "      <td>1</td>\n",
       "      <td>775</td>\n",
       "      <td>Banashankari</td>\n",
       "      <td>Casual Dining</td>\n",
       "      <td>North Indian, Mughlai</td>\n",
       "      <td>800.0</td>\n",
       "      <td>Buffet</td>\n",
       "      <td>Banashankari</td>\n",
       "      <td>Banashankari</td>\n",
       "      <td>Banashankari</td>\n",
       "      <td>Casual Dining</td>\n",
       "      <td>Casual Dining</td>\n",
       "    </tr>\n",
       "    <tr>\n",
       "      <th>1</th>\n",
       "      <td>Yes</td>\n",
       "      <td>No</td>\n",
       "      <td>1</td>\n",
       "      <td>787</td>\n",
       "      <td>Banashankari</td>\n",
       "      <td>Casual Dining</td>\n",
       "      <td>Chinese, North Indian</td>\n",
       "      <td>800.0</td>\n",
       "      <td>Buffet</td>\n",
       "      <td>Banashankari</td>\n",
       "      <td>Banashankari</td>\n",
       "      <td>Banashankari</td>\n",
       "      <td>Casual Dining</td>\n",
       "      <td>Casual Dining</td>\n",
       "    </tr>\n",
       "  </tbody>\n",
       "</table>\n",
       "</div>"
      ],
      "text/plain": [
       "  online_order book_table  Target  votes      location      rest_type  \\\n",
       "0          Yes        Yes       1    775  Banashankari  Casual Dining   \n",
       "1          Yes         No       1    787  Banashankari  Casual Dining   \n",
       "\n",
       "                cuisines  approx_cost(for two people) listed_in(type)  \\\n",
       "0  North Indian, Mughlai                        800.0          Buffet   \n",
       "1  Chinese, North Indian                        800.0          Buffet   \n",
       "\n",
       "  listed_in(city) locations_standardized other_location_col  \\\n",
       "0    Banashankari           Banashankari       Banashankari   \n",
       "1    Banashankari           Banashankari       Banashankari   \n",
       "\n",
       "  rest_types_standardized other_rest_type_col  \n",
       "0           Casual Dining       Casual Dining  \n",
       "1           Casual Dining       Casual Dining  "
      ]
     },
     "execution_count": 266,
     "metadata": {},
     "output_type": "execute_result"
    }
   ],
   "source": [
    "df.head(2)"
   ]
  },
  {
   "cell_type": "code",
   "execution_count": 267,
   "id": "50cc413c",
   "metadata": {},
   "outputs": [
    {
     "data": {
      "text/plain": [
       "719"
      ]
     },
     "execution_count": 267,
     "metadata": {},
     "output_type": "execute_result"
    }
   ],
   "source": [
    "len(df['cuisines'].unique())"
   ]
  },
  {
   "cell_type": "code",
   "execution_count": 268,
   "id": "0dcdbd0a",
   "metadata": {},
   "outputs": [
    {
     "data": {
      "text/plain": [
       "cuisines\n",
       "North Indian, Chinese         3758\n",
       "North Indian                  2103\n",
       "South Indian, North Indian    1304\n",
       "South Indian                  1226\n",
       "North Indian, South Indian     922\n",
       "                              ... \n",
       "Desserts, Continental            1\n",
       "Momos, Chinese                   1\n",
       "Biryani, Bengali                 1\n",
       "BBQ, Rolls                       1\n",
       "South Indian, Asian              1\n",
       "Name: count, Length: 719, dtype: int64"
      ]
     },
     "execution_count": 268,
     "metadata": {},
     "output_type": "execute_result"
    }
   ],
   "source": [
    "df['cuisines'].value_counts()"
   ]
  },
  {
   "cell_type": "code",
   "execution_count": 269,
   "id": "3a94449d",
   "metadata": {},
   "outputs": [
    {
     "data": {
      "text/plain": [
       "520"
      ]
     },
     "execution_count": 269,
     "metadata": {},
     "output_type": "execute_result"
    }
   ],
   "source": [
    "threshold = 30\n",
    "category_counts = df['cuisines'].value_counts()\n",
    "rare_categories = category_counts[category_counts <= threshold].index\n",
    "len(rare_categories)\n",
    "#rare_categories"
   ]
  },
  {
   "cell_type": "code",
   "execution_count": 270,
   "id": "a452f0ee",
   "metadata": {
    "scrolled": true
   },
   "outputs": [],
   "source": [
    "df['other_cuisines_col'] = df['cuisines'].apply(lambda x: 'Other' if x in rare_categories else x)"
   ]
  },
  {
   "cell_type": "code",
   "execution_count": 271,
   "id": "ee9eadfe",
   "metadata": {
    "scrolled": false
   },
   "outputs": [
    {
     "data": {
      "text/plain": [
       "other_cuisines_col\n",
       "Other                          5212\n",
       "North Indian, Chinese          3758\n",
       "North Indian                   2103\n",
       "South Indian, North Indian     1304\n",
       "South Indian                   1226\n",
       "                               ... \n",
       "Cafe, Mediterranean              31\n",
       "North Indian, Lucknowi           31\n",
       "North Indian, Rolls              31\n",
       "North Indian, Pizza              31\n",
       "North Indian, Mediterranean      31\n",
       "Name: count, Length: 200, dtype: int64"
      ]
     },
     "execution_count": 271,
     "metadata": {},
     "output_type": "execute_result"
    }
   ],
   "source": [
    "df['other_cuisines_col'].value_counts()"
   ]
  },
  {
   "cell_type": "code",
   "execution_count": 272,
   "id": "4db5312a",
   "metadata": {},
   "outputs": [
    {
     "data": {
      "text/plain": [
       "200"
      ]
     },
     "execution_count": 272,
     "metadata": {},
     "output_type": "execute_result"
    }
   ],
   "source": [
    "len(df['other_cuisines_col'].unique())"
   ]
  },
  {
   "cell_type": "markdown",
   "id": "c9089f25",
   "metadata": {},
   "source": [
    "#####So , the unique values is decreased in the cuisines column from 2367 to 1688 value as it seems like there were a hidden repeated values in it. "
   ]
  },
  {
   "cell_type": "code",
   "execution_count": 273,
   "id": "a1bb138f",
   "metadata": {
    "scrolled": false
   },
   "outputs": [
    {
     "data": {
      "text/plain": [
       "array(['Buffet', 'Cafes', 'Delivery', 'Desserts', 'Dine-out',\n",
       "       'Drinks & nightlife', 'Pubs and bars'], dtype=object)"
      ]
     },
     "execution_count": 273,
     "metadata": {},
     "output_type": "execute_result"
    }
   ],
   "source": [
    "df['listed_in(type)'].unique()"
   ]
  },
  {
   "cell_type": "code",
   "execution_count": 274,
   "id": "ed9c4362",
   "metadata": {
    "scrolled": false
   },
   "outputs": [
    {
     "data": {
      "text/plain": [
       "<Axes: xlabel='listed_in(type)', ylabel='count'>"
      ]
     },
     "execution_count": 274,
     "metadata": {},
     "output_type": "execute_result"
    },
    {
     "data": {
      "image/png": "[encoded data removed]",
      "text/plain": [
       "<Figure size 1500x500 with 1 Axes>"
      ]
     },
     "metadata": {},
     "output_type": "display_data"
    }
   ],
   "source": [
    "sns.set(rc={'figure.figsize':(15,5)})\n",
    "sns.countplot(df,x='listed_in(type)')"
   ]
  },
  {
   "cell_type": "code",
   "execution_count": 275,
   "id": "e1e49ba9",
   "metadata": {
    "scrolled": true
   },
   "outputs": [
    {
     "data": {
      "text/plain": [
       "<Axes: xlabel='listed_in(type)', ylabel='count'>"
      ]
     },
     "execution_count": 275,
     "metadata": {},
     "output_type": "execute_result"
    },
    {
     "data": {
      "image/png": "[encoded data removed]",
      "text/plain": [
       "<Figure size 1500x500 with 1 Axes>"
      ]
     },
     "metadata": {},
     "output_type": "display_data"
    }
   ],
   "source": [
    "sns.countplot(df,x='listed_in(type)',hue='book_table')"
   ]
  },
  {
   "cell_type": "code",
   "execution_count": 276,
   "id": "817f921b",
   "metadata": {
    "scrolled": false
   },
   "outputs": [
    {
     "data": {
      "text/plain": [
       "<Axes: xlabel='listed_in(type)', ylabel='count'>"
      ]
     },
     "execution_count": 276,
     "metadata": {},
     "output_type": "execute_result"
    },
    {
     "data": {
      "image/png": "[encoded data removed]",
      "text/plain": [
       "<Figure size 1500x500 with 1 Axes>"
      ]
     },
     "metadata": {},
     "output_type": "display_data"
    }
   ],
   "source": [
    "#sns.set(rc={'figure.figsize':(10,3)})\n",
    "sns.countplot(df, x=\"listed_in(type)\", hue=\"Target\")"
   ]
  },
  {
   "cell_type": "code",
   "execution_count": 277,
   "id": "5810590a",
   "metadata": {
    "scrolled": true
   },
   "outputs": [
    {
     "data": {
      "text/plain": [
       "array(['Banashankari', 'Bannerghatta Road', 'Basavanagudi', 'Bellandur',\n",
       "       'Brigade Road', 'Brookefield', 'BTM', 'Church Street',\n",
       "       'Electronic City', 'Frazer Town', 'HSR', 'Indiranagar',\n",
       "       'Jayanagar', 'JP Nagar', 'Kalyan Nagar', 'Kammanahalli',\n",
       "       'Koramangala 4th Block', 'Koramangala 5th Block',\n",
       "       'Koramangala 6th Block', 'Koramangala 7th Block', 'Lavelle Road',\n",
       "       'Malleshwaram', 'Marathahalli', 'MG Road', 'New BEL Road',\n",
       "       'Old Airport Road', 'Rajajinagar', 'Residency Road',\n",
       "       'Sarjapur Road', 'Whitefield'], dtype=object)"
      ]
     },
     "execution_count": 277,
     "metadata": {},
     "output_type": "execute_result"
    }
   ],
   "source": [
    "df['listed_in(city)'].unique()"
   ]
  },
  {
   "cell_type": "code",
   "execution_count": 278,
   "id": "a91abfc4",
   "metadata": {},
   "outputs": [
    {
     "data": {
      "text/plain": [
       "30"
      ]
     },
     "execution_count": 278,
     "metadata": {},
     "output_type": "execute_result"
    }
   ],
   "source": [
    "len(df['listed_in(city)'].unique())"
   ]
  },
  {
   "cell_type": "code",
   "execution_count": 279,
   "id": "9cf7fb13",
   "metadata": {},
   "outputs": [
    {
     "data": {
      "text/plain": [
       "\"\\ndf['cities_standardized'] = df['listed_in(city)'].apply(lambda x: ', '.join(sorted(x.split(', '))))\\n\\nunique_values = df['cities_standardized'].unique()\\nlen(unique_values)\\n\""
      ]
     },
     "execution_count": 279,
     "metadata": {},
     "output_type": "execute_result"
    }
   ],
   "source": [
    "'''\n",
    "df['cities_standardized'] = df['listed_in(city)'].apply(lambda x: ', '.join(sorted(x.split(', '))))\n",
    "\n",
    "unique_values = df['cities_standardized'].unique()\n",
    "len(unique_values)\n",
    "'''"
   ]
  },
  {
   "cell_type": "code",
   "execution_count": 280,
   "id": "a5d27b33",
   "metadata": {
    "scrolled": true
   },
   "outputs": [
    {
     "data": {
      "text/plain": [
       "listed_in(city)\n",
       "BTM                      2573\n",
       "Koramangala 7th Block    2359\n",
       "Koramangala 4th Block    2252\n",
       "Koramangala 5th Block    2244\n",
       "Koramangala 6th Block    2119\n",
       "Jayanagar                1914\n",
       "JP Nagar                 1632\n",
       "Indiranagar              1535\n",
       "MG Road                  1509\n",
       "Church Street            1493\n",
       "Brigade Road             1481\n",
       "Lavelle Road             1449\n",
       "Residency Road           1344\n",
       "HSR                      1328\n",
       "Marathahalli             1292\n",
       "Bannerghatta Road        1207\n",
       "Whitefield               1198\n",
       "Old Airport Road         1171\n",
       "Brookefield              1139\n",
       "Basavanagudi             1070\n",
       "Sarjapur Road            1017\n",
       "Kammanahalli             1017\n",
       "Kalyan Nagar              989\n",
       "Frazer Town               952\n",
       "Bellandur                 952\n",
       "Malleshwaram              945\n",
       "Rajajinagar               870\n",
       "Electronic City           818\n",
       "Banashankari              726\n",
       "New BEL Road              569\n",
       "Name: count, dtype: int64"
      ]
     },
     "execution_count": 280,
     "metadata": {},
     "output_type": "execute_result"
    }
   ],
   "source": [
    "df['listed_in(city)'].value_counts()"
   ]
  },
  {
   "cell_type": "code",
   "execution_count": 281,
   "id": "7d6ccaae",
   "metadata": {
    "scrolled": true
   },
   "outputs": [
    {
     "data": {
      "text/plain": [
       "<Axes: xlabel='count', ylabel='listed_in(city)'>"
      ]
     },
     "execution_count": 281,
     "metadata": {},
     "output_type": "execute_result"
    },
    {
     "data": {
      "image/png": "[encoded data removed]",
      "text/plain": [
       "<Figure size 1000x2000 with 1 Axes>"
      ]
     },
     "metadata": {},
     "output_type": "display_data"
    }
   ],
   "source": [
    "sns.set(rc={'figure.figsize':(10,20)})\n",
    "sns.countplot(df, y=\"listed_in(city)\", hue=\"Target\")"
   ]
  },
  {
   "cell_type": "code",
   "execution_count": 282,
   "id": "f668ce6c",
   "metadata": {},
   "outputs": [
    {
     "data": {
      "text/html": [
       "<div>\n",
       "<style scoped>\n",
       "    .dataframe tbody tr th:only-of-type {\n",
       "        vertical-align: middle;\n",
       "    }\n",
       "\n",
       "    .dataframe tbody tr th {\n",
       "        vertical-align: top;\n",
       "    }\n",
       "\n",
       "    .dataframe thead th {\n",
       "        text-align: right;\n",
       "    }\n",
       "</style>\n",
       "<table border=\"1\" class=\"dataframe\">\n",
       "  <thead>\n",
       "    <tr style=\"text-align: right;\">\n",
       "      <th></th>\n",
       "      <th>online_order</th>\n",
       "      <th>book_table</th>\n",
       "      <th>Target</th>\n",
       "      <th>votes</th>\n",
       "      <th>location</th>\n",
       "      <th>rest_type</th>\n",
       "      <th>cuisines</th>\n",
       "      <th>approx_cost(for two people)</th>\n",
       "      <th>listed_in(type)</th>\n",
       "      <th>listed_in(city)</th>\n",
       "      <th>locations_standardized</th>\n",
       "      <th>other_location_col</th>\n",
       "      <th>rest_types_standardized</th>\n",
       "      <th>other_rest_type_col</th>\n",
       "      <th>other_cuisines_col</th>\n",
       "    </tr>\n",
       "  </thead>\n",
       "  <tbody>\n",
       "    <tr>\n",
       "      <th>0</th>\n",
       "      <td>Yes</td>\n",
       "      <td>Yes</td>\n",
       "      <td>1</td>\n",
       "      <td>775</td>\n",
       "      <td>Banashankari</td>\n",
       "      <td>Casual Dining</td>\n",
       "      <td>North Indian, Mughlai</td>\n",
       "      <td>800.0</td>\n",
       "      <td>Buffet</td>\n",
       "      <td>Banashankari</td>\n",
       "      <td>Banashankari</td>\n",
       "      <td>Banashankari</td>\n",
       "      <td>Casual Dining</td>\n",
       "      <td>Casual Dining</td>\n",
       "      <td>North Indian, Mughlai</td>\n",
       "    </tr>\n",
       "    <tr>\n",
       "      <th>1</th>\n",
       "      <td>Yes</td>\n",
       "      <td>No</td>\n",
       "      <td>1</td>\n",
       "      <td>787</td>\n",
       "      <td>Banashankari</td>\n",
       "      <td>Casual Dining</td>\n",
       "      <td>Chinese, North Indian</td>\n",
       "      <td>800.0</td>\n",
       "      <td>Buffet</td>\n",
       "      <td>Banashankari</td>\n",
       "      <td>Banashankari</td>\n",
       "      <td>Banashankari</td>\n",
       "      <td>Casual Dining</td>\n",
       "      <td>Casual Dining</td>\n",
       "      <td>Chinese, North Indian</td>\n",
       "    </tr>\n",
       "    <tr>\n",
       "      <th>2</th>\n",
       "      <td>Yes</td>\n",
       "      <td>No</td>\n",
       "      <td>1</td>\n",
       "      <td>918</td>\n",
       "      <td>Banashankari</td>\n",
       "      <td>Cafe, Casual Dining</td>\n",
       "      <td>Cafe, Mexican</td>\n",
       "      <td>800.0</td>\n",
       "      <td>Buffet</td>\n",
       "      <td>Banashankari</td>\n",
       "      <td>Banashankari</td>\n",
       "      <td>Banashankari</td>\n",
       "      <td>Cafe, Casual Dining</td>\n",
       "      <td>Cafe, Casual Dining</td>\n",
       "      <td>Other</td>\n",
       "    </tr>\n",
       "  </tbody>\n",
       "</table>\n",
       "</div>"
      ],
      "text/plain": [
       "  online_order book_table  Target  votes      location            rest_type  \\\n",
       "0          Yes        Yes       1    775  Banashankari        Casual Dining   \n",
       "1          Yes         No       1    787  Banashankari        Casual Dining   \n",
       "2          Yes         No       1    918  Banashankari  Cafe, Casual Dining   \n",
       "\n",
       "                cuisines  approx_cost(for two people) listed_in(type)  \\\n",
       "0  North Indian, Mughlai                        800.0          Buffet   \n",
       "1  Chinese, North Indian                        800.0          Buffet   \n",
       "2          Cafe, Mexican                        800.0          Buffet   \n",
       "\n",
       "  listed_in(city) locations_standardized other_location_col  \\\n",
       "0    Banashankari           Banashankari       Banashankari   \n",
       "1    Banashankari           Banashankari       Banashankari   \n",
       "2    Banashankari           Banashankari       Banashankari   \n",
       "\n",
       "  rest_types_standardized  other_rest_type_col     other_cuisines_col  \n",
       "0           Casual Dining        Casual Dining  North Indian, Mughlai  \n",
       "1           Casual Dining        Casual Dining  Chinese, North Indian  \n",
       "2     Cafe, Casual Dining  Cafe, Casual Dining                  Other  "
      ]
     },
     "execution_count": 282,
     "metadata": {},
     "output_type": "execute_result"
    }
   ],
   "source": [
    "df.head(3)"
   ]
  },
  {
   "cell_type": "code",
   "execution_count": 283,
   "id": "bf023205",
   "metadata": {
    "scrolled": false
   },
   "outputs": [
    {
     "data": {
      "text/plain": [
       "Index(['online_order', 'book_table', 'Target', 'votes', 'location',\n",
       "       'rest_type', 'cuisines', 'approx_cost(for two people)',\n",
       "       'listed_in(type)', 'listed_in(city)', 'locations_standardized',\n",
       "       'other_location_col', 'rest_types_standardized', 'other_rest_type_col',\n",
       "       'other_cuisines_col'],\n",
       "      dtype='object')"
      ]
     },
     "execution_count": 283,
     "metadata": {},
     "output_type": "execute_result"
    }
   ],
   "source": [
    "df.columns"
   ]
  },
  {
   "cell_type": "code",
   "execution_count": 286,
   "id": "58a84423",
   "metadata": {},
   "outputs": [],
   "source": [
    "columns = ['location','rest_type','cuisines','locations_standardized','rest_types_standardized']\n",
    "df.drop(columns, inplace=True, axis=1)"
   ]
  },
  {
   "cell_type": "code",
   "execution_count": 287,
   "id": "b62d2d6a",
   "metadata": {},
   "outputs": [
    {
     "data": {
      "text/html": [
       "<div>\n",
       "<style scoped>\n",
       "    .dataframe tbody tr th:only-of-type {\n",
       "        vertical-align: middle;\n",
       "    }\n",
       "\n",
       "    .dataframe tbody tr th {\n",
       "        vertical-align: top;\n",
       "    }\n",
       "\n",
       "    .dataframe thead th {\n",
       "        text-align: right;\n",
       "    }\n",
       "</style>\n",
       "<table border=\"1\" class=\"dataframe\">\n",
       "  <thead>\n",
       "    <tr style=\"text-align: right;\">\n",
       "      <th></th>\n",
       "      <th>online_order</th>\n",
       "      <th>book_table</th>\n",
       "      <th>Target</th>\n",
       "      <th>votes</th>\n",
       "      <th>approx_cost(for two people)</th>\n",
       "      <th>listed_in(type)</th>\n",
       "      <th>listed_in(city)</th>\n",
       "      <th>other_location_col</th>\n",
       "      <th>other_rest_type_col</th>\n",
       "      <th>other_cuisines_col</th>\n",
       "    </tr>\n",
       "  </thead>\n",
       "  <tbody>\n",
       "    <tr>\n",
       "      <th>0</th>\n",
       "      <td>Yes</td>\n",
       "      <td>Yes</td>\n",
       "      <td>1</td>\n",
       "      <td>775</td>\n",
       "      <td>800.0</td>\n",
       "      <td>Buffet</td>\n",
       "      <td>Banashankari</td>\n",
       "      <td>Banashankari</td>\n",
       "      <td>Casual Dining</td>\n",
       "      <td>North Indian, Mughlai</td>\n",
       "    </tr>\n",
       "    <tr>\n",
       "      <th>1</th>\n",
       "      <td>Yes</td>\n",
       "      <td>No</td>\n",
       "      <td>1</td>\n",
       "      <td>787</td>\n",
       "      <td>800.0</td>\n",
       "      <td>Buffet</td>\n",
       "      <td>Banashankari</td>\n",
       "      <td>Banashankari</td>\n",
       "      <td>Casual Dining</td>\n",
       "      <td>Chinese, North Indian</td>\n",
       "    </tr>\n",
       "    <tr>\n",
       "      <th>2</th>\n",
       "      <td>Yes</td>\n",
       "      <td>No</td>\n",
       "      <td>1</td>\n",
       "      <td>918</td>\n",
       "      <td>800.0</td>\n",
       "      <td>Buffet</td>\n",
       "      <td>Banashankari</td>\n",
       "      <td>Banashankari</td>\n",
       "      <td>Cafe, Casual Dining</td>\n",
       "      <td>Other</td>\n",
       "    </tr>\n",
       "    <tr>\n",
       "      <th>3</th>\n",
       "      <td>No</td>\n",
       "      <td>No</td>\n",
       "      <td>0</td>\n",
       "      <td>88</td>\n",
       "      <td>300.0</td>\n",
       "      <td>Buffet</td>\n",
       "      <td>Banashankari</td>\n",
       "      <td>Banashankari</td>\n",
       "      <td>Quick Bites</td>\n",
       "      <td>South Indian, North Indian</td>\n",
       "    </tr>\n",
       "    <tr>\n",
       "      <th>4</th>\n",
       "      <td>No</td>\n",
       "      <td>No</td>\n",
       "      <td>1</td>\n",
       "      <td>166</td>\n",
       "      <td>600.0</td>\n",
       "      <td>Buffet</td>\n",
       "      <td>Banashankari</td>\n",
       "      <td>Basavanagudi</td>\n",
       "      <td>Casual Dining</td>\n",
       "      <td>Other</td>\n",
       "    </tr>\n",
       "    <tr>\n",
       "      <th>...</th>\n",
       "      <td>...</td>\n",
       "      <td>...</td>\n",
       "      <td>...</td>\n",
       "      <td>...</td>\n",
       "      <td>...</td>\n",
       "      <td>...</td>\n",
       "      <td>...</td>\n",
       "      <td>...</td>\n",
       "      <td>...</td>\n",
       "      <td>...</td>\n",
       "    </tr>\n",
       "    <tr>\n",
       "      <th>51709</th>\n",
       "      <td>No</td>\n",
       "      <td>No</td>\n",
       "      <td>0</td>\n",
       "      <td>34</td>\n",
       "      <td>800.0</td>\n",
       "      <td>Pubs and bars</td>\n",
       "      <td>Whitefield</td>\n",
       "      <td>Whitefield</td>\n",
       "      <td>Bar, Casual Dining</td>\n",
       "      <td>North Indian, Continental</td>\n",
       "    </tr>\n",
       "    <tr>\n",
       "      <th>51711</th>\n",
       "      <td>No</td>\n",
       "      <td>No</td>\n",
       "      <td>0</td>\n",
       "      <td>81</td>\n",
       "      <td>800.0</td>\n",
       "      <td>Pubs and bars</td>\n",
       "      <td>Whitefield</td>\n",
       "      <td>Whitefield</td>\n",
       "      <td>Bar, Casual Dining</td>\n",
       "      <td>Andhra, South Indian</td>\n",
       "    </tr>\n",
       "    <tr>\n",
       "      <th>51712</th>\n",
       "      <td>No</td>\n",
       "      <td>No</td>\n",
       "      <td>0</td>\n",
       "      <td>27</td>\n",
       "      <td>1500.0</td>\n",
       "      <td>Pubs and bars</td>\n",
       "      <td>Whitefield</td>\n",
       "      <td>Whitefield</td>\n",
       "      <td>Bar</td>\n",
       "      <td>Continental</td>\n",
       "    </tr>\n",
       "    <tr>\n",
       "      <th>51715</th>\n",
       "      <td>No</td>\n",
       "      <td>Yes</td>\n",
       "      <td>1</td>\n",
       "      <td>236</td>\n",
       "      <td>2500.0</td>\n",
       "      <td>Pubs and bars</td>\n",
       "      <td>Whitefield</td>\n",
       "      <td>Other</td>\n",
       "      <td>Bar</td>\n",
       "      <td>Finger Food</td>\n",
       "    </tr>\n",
       "    <tr>\n",
       "      <th>51716</th>\n",
       "      <td>No</td>\n",
       "      <td>No</td>\n",
       "      <td>0</td>\n",
       "      <td>13</td>\n",
       "      <td>1500.0</td>\n",
       "      <td>Pubs and bars</td>\n",
       "      <td>Whitefield</td>\n",
       "      <td>Other</td>\n",
       "      <td>Bar, Casual Dining</td>\n",
       "      <td>Finger Food, North Indian</td>\n",
       "    </tr>\n",
       "  </tbody>\n",
       "</table>\n",
       "<p>41164 rows × 10 columns</p>\n",
       "</div>"
      ],
      "text/plain": [
       "      online_order book_table  Target  votes  approx_cost(for two people)  \\\n",
       "0              Yes        Yes       1    775                        800.0   \n",
       "1              Yes         No       1    787                        800.0   \n",
       "2              Yes         No       1    918                        800.0   \n",
       "3               No         No       0     88                        300.0   \n",
       "4               No         No       1    166                        600.0   \n",
       "...            ...        ...     ...    ...                          ...   \n",
       "51709           No         No       0     34                        800.0   \n",
       "51711           No         No       0     81                        800.0   \n",
       "51712           No         No       0     27                       1500.0   \n",
       "51715           No        Yes       1    236                       2500.0   \n",
       "51716           No         No       0     13                       1500.0   \n",
       "\n",
       "      listed_in(type) listed_in(city) other_location_col  other_rest_type_col  \\\n",
       "0              Buffet    Banashankari       Banashankari        Casual Dining   \n",
       "1              Buffet    Banashankari       Banashankari        Casual Dining   \n",
       "2              Buffet    Banashankari       Banashankari  Cafe, Casual Dining   \n",
       "3              Buffet    Banashankari       Banashankari          Quick Bites   \n",
       "4              Buffet    Banashankari       Basavanagudi        Casual Dining   \n",
       "...               ...             ...                ...                  ...   \n",
       "51709   Pubs and bars      Whitefield         Whitefield   Bar, Casual Dining   \n",
       "51711   Pubs and bars      Whitefield         Whitefield   Bar, Casual Dining   \n",
       "51712   Pubs and bars      Whitefield         Whitefield                  Bar   \n",
       "51715   Pubs and bars      Whitefield              Other                  Bar   \n",
       "51716   Pubs and bars      Whitefield              Other   Bar, Casual Dining   \n",
       "\n",
       "               other_cuisines_col  \n",
       "0           North Indian, Mughlai  \n",
       "1           Chinese, North Indian  \n",
       "2                           Other  \n",
       "3      South Indian, North Indian  \n",
       "4                           Other  \n",
       "...                           ...  \n",
       "51709   North Indian, Continental  \n",
       "51711        Andhra, South Indian  \n",
       "51712                 Continental  \n",
       "51715                 Finger Food  \n",
       "51716   Finger Food, North Indian  \n",
       "\n",
       "[41164 rows x 10 columns]"
      ]
     },
     "execution_count": 287,
     "metadata": {},
     "output_type": "execute_result"
    }
   ],
   "source": [
    "df"
   ]
  },
  {
   "cell_type": "code",
   "execution_count": 2,
   "id": "f8b69098",
   "metadata": {
    "collapsed": true
   },
   "outputs": [
    {
     "ename": "NameError",
     "evalue": "name 'df' is not defined",
     "output_type": "error",
     "traceback": [
      "\u001b[1;31m---------------------------------------------------------------------------\u001b[0m",
      "\u001b[1;31mNameError\u001b[0m                                 Traceback (most recent call last)",
      "Cell \u001b[1;32mIn[2], line 1\u001b[0m\n\u001b[1;32m----> 1\u001b[0m df\u001b[38;5;241m.\u001b[39mto_csv(\u001b[38;5;124m'\u001b[39m\u001b[38;5;124mclean_d.csv\u001b[39m\u001b[38;5;124m'\u001b[39m)\n",
      "\u001b[1;31mNameError\u001b[0m: name 'df' is not defined"
     ]
    }
   ],
   "source": [
    "df.to_csv('clean_d.csv')"
   ]
  },
  {
   "cell_type": "markdown",
   "id": "390c937b",
   "metadata": {},
   "source": [
    "## Working with data after cleaning"
   ]
  },
  {
   "cell_type": "code",
   "execution_count": 3,
   "id": "3e50e2be",
   "metadata": {},
   "outputs": [],
   "source": [
    "from sklearn.model_selection import train_test_split\n",
    "from sklearn.preprocessing import StandardScaler\n",
    "from sklearn.svm import SVC\n",
    "from sklearn.metrics import accuracy_score"
   ]
  },
  {
   "cell_type": "code",
   "execution_count": 4,
   "id": "0d1fda8a",
   "metadata": {
    "collapsed": true
   },
   "outputs": [
    {
     "ename": "NameError",
     "evalue": "name 'pd' is not defined",
     "output_type": "error",
     "traceback": [
      "\u001b[1;31m---------------------------------------------------------------------------\u001b[0m",
      "\u001b[1;31mNameError\u001b[0m                                 Traceback (most recent call last)",
      "Cell \u001b[1;32mIn[4], line 1\u001b[0m\n\u001b[1;32m----> 1\u001b[0m df_cleaned\u001b[38;5;241m=\u001b[39mpd\u001b[38;5;241m.\u001b[39mread_csv(\u001b[38;5;124m'\u001b[39m\u001b[38;5;124mclean_d.csv\u001b[39m\u001b[38;5;124m'\u001b[39m)\n\u001b[0;32m      2\u001b[0m df_cleaned\n",
      "\u001b[1;31mNameError\u001b[0m: name 'pd' is not defined"
     ]
    }
   ],
   "source": [
    "df_cleaned=pd.read_csv('clean_d.csv')\n",
    "df_cleaned"
   ]
  },
  {
   "cell_type": "code",
   "execution_count": 4,
   "id": "b2f53871",
   "metadata": {},
   "outputs": [
    {
     "data": {
      "text/plain": [
       "Index(['Unnamed: 0', 'online_order', 'book_table', 'Target', 'votes',\n",
       "       'approx_cost(for two people)', 'listed_in(type)', 'listed_in(city)',\n",
       "       'other_location_col', 'other_rest_type_col', 'other_cuisines_col'],\n",
       "      dtype='object')"
      ]
     },
     "execution_count": 4,
     "metadata": {},
     "output_type": "execute_result"
    }
   ],
   "source": [
    "df_cleaned.columns"
   ]
  },
  {
   "cell_type": "code",
   "execution_count": 5,
   "id": "b77d6eba",
   "metadata": {},
   "outputs": [],
   "source": [
    "df_cleaned['online_order'] = df_cleaned['online_order'].replace({'Yes': 1, 'No': 0})\n",
    "df_cleaned['book_table'] = df_cleaned['book_table'].replace({'Yes': 1, 'No': 0})"
   ]
  },
  {
   "cell_type": "code",
   "execution_count": 6,
   "id": "f108c1fe",
   "metadata": {},
   "outputs": [
    {
     "data": {
      "text/html": [
       "<div>\n",
       "<style scoped>\n",
       "    .dataframe tbody tr th:only-of-type {\n",
       "        vertical-align: middle;\n",
       "    }\n",
       "\n",
       "    .dataframe tbody tr th {\n",
       "        vertical-align: top;\n",
       "    }\n",
       "\n",
       "    .dataframe thead th {\n",
       "        text-align: right;\n",
       "    }\n",
       "</style>\n",
       "<table border=\"1\" class=\"dataframe\">\n",
       "  <thead>\n",
       "    <tr style=\"text-align: right;\">\n",
       "      <th></th>\n",
       "      <th>Unnamed: 0</th>\n",
       "      <th>online_order</th>\n",
       "      <th>book_table</th>\n",
       "      <th>Target</th>\n",
       "      <th>votes</th>\n",
       "      <th>approx_cost(for two people)</th>\n",
       "      <th>listed_in(type)</th>\n",
       "      <th>listed_in(city)</th>\n",
       "      <th>other_location_col</th>\n",
       "      <th>other_rest_type_col</th>\n",
       "      <th>other_cuisines_col</th>\n",
       "    </tr>\n",
       "  </thead>\n",
       "  <tbody>\n",
       "    <tr>\n",
       "      <th>0</th>\n",
       "      <td>0</td>\n",
       "      <td>1</td>\n",
       "      <td>1</td>\n",
       "      <td>1</td>\n",
       "      <td>775</td>\n",
       "      <td>800.0</td>\n",
       "      <td>Buffet</td>\n",
       "      <td>Banashankari</td>\n",
       "      <td>Banashankari</td>\n",
       "      <td>Casual Dining</td>\n",
       "      <td>North Indian, Mughlai</td>\n",
       "    </tr>\n",
       "    <tr>\n",
       "      <th>1</th>\n",
       "      <td>1</td>\n",
       "      <td>1</td>\n",
       "      <td>0</td>\n",
       "      <td>1</td>\n",
       "      <td>787</td>\n",
       "      <td>800.0</td>\n",
       "      <td>Buffet</td>\n",
       "      <td>Banashankari</td>\n",
       "      <td>Banashankari</td>\n",
       "      <td>Casual Dining</td>\n",
       "      <td>Chinese, North Indian</td>\n",
       "    </tr>\n",
       "    <tr>\n",
       "      <th>2</th>\n",
       "      <td>2</td>\n",
       "      <td>1</td>\n",
       "      <td>0</td>\n",
       "      <td>1</td>\n",
       "      <td>918</td>\n",
       "      <td>800.0</td>\n",
       "      <td>Buffet</td>\n",
       "      <td>Banashankari</td>\n",
       "      <td>Banashankari</td>\n",
       "      <td>Cafe, Casual Dining</td>\n",
       "      <td>Other</td>\n",
       "    </tr>\n",
       "    <tr>\n",
       "      <th>3</th>\n",
       "      <td>3</td>\n",
       "      <td>0</td>\n",
       "      <td>0</td>\n",
       "      <td>0</td>\n",
       "      <td>88</td>\n",
       "      <td>300.0</td>\n",
       "      <td>Buffet</td>\n",
       "      <td>Banashankari</td>\n",
       "      <td>Banashankari</td>\n",
       "      <td>Quick Bites</td>\n",
       "      <td>South Indian, North Indian</td>\n",
       "    </tr>\n",
       "    <tr>\n",
       "      <th>4</th>\n",
       "      <td>4</td>\n",
       "      <td>0</td>\n",
       "      <td>0</td>\n",
       "      <td>1</td>\n",
       "      <td>166</td>\n",
       "      <td>600.0</td>\n",
       "      <td>Buffet</td>\n",
       "      <td>Banashankari</td>\n",
       "      <td>Basavanagudi</td>\n",
       "      <td>Casual Dining</td>\n",
       "      <td>Other</td>\n",
       "    </tr>\n",
       "    <tr>\n",
       "      <th>...</th>\n",
       "      <td>...</td>\n",
       "      <td>...</td>\n",
       "      <td>...</td>\n",
       "      <td>...</td>\n",
       "      <td>...</td>\n",
       "      <td>...</td>\n",
       "      <td>...</td>\n",
       "      <td>...</td>\n",
       "      <td>...</td>\n",
       "      <td>...</td>\n",
       "      <td>...</td>\n",
       "    </tr>\n",
       "    <tr>\n",
       "      <th>41159</th>\n",
       "      <td>51709</td>\n",
       "      <td>0</td>\n",
       "      <td>0</td>\n",
       "      <td>0</td>\n",
       "      <td>34</td>\n",
       "      <td>800.0</td>\n",
       "      <td>Pubs and bars</td>\n",
       "      <td>Whitefield</td>\n",
       "      <td>Whitefield</td>\n",
       "      <td>Bar, Casual Dining</td>\n",
       "      <td>North Indian, Continental</td>\n",
       "    </tr>\n",
       "    <tr>\n",
       "      <th>41160</th>\n",
       "      <td>51711</td>\n",
       "      <td>0</td>\n",
       "      <td>0</td>\n",
       "      <td>0</td>\n",
       "      <td>81</td>\n",
       "      <td>800.0</td>\n",
       "      <td>Pubs and bars</td>\n",
       "      <td>Whitefield</td>\n",
       "      <td>Whitefield</td>\n",
       "      <td>Bar, Casual Dining</td>\n",
       "      <td>Andhra, South Indian</td>\n",
       "    </tr>\n",
       "    <tr>\n",
       "      <th>41161</th>\n",
       "      <td>51712</td>\n",
       "      <td>0</td>\n",
       "      <td>0</td>\n",
       "      <td>0</td>\n",
       "      <td>27</td>\n",
       "      <td>1500.0</td>\n",
       "      <td>Pubs and bars</td>\n",
       "      <td>Whitefield</td>\n",
       "      <td>Whitefield</td>\n",
       "      <td>Bar</td>\n",
       "      <td>Continental</td>\n",
       "    </tr>\n",
       "    <tr>\n",
       "      <th>41162</th>\n",
       "      <td>51715</td>\n",
       "      <td>0</td>\n",
       "      <td>1</td>\n",
       "      <td>1</td>\n",
       "      <td>236</td>\n",
       "      <td>2500.0</td>\n",
       "      <td>Pubs and bars</td>\n",
       "      <td>Whitefield</td>\n",
       "      <td>Other</td>\n",
       "      <td>Bar</td>\n",
       "      <td>Finger Food</td>\n",
       "    </tr>\n",
       "    <tr>\n",
       "      <th>41163</th>\n",
       "      <td>51716</td>\n",
       "      <td>0</td>\n",
       "      <td>0</td>\n",
       "      <td>0</td>\n",
       "      <td>13</td>\n",
       "      <td>1500.0</td>\n",
       "      <td>Pubs and bars</td>\n",
       "      <td>Whitefield</td>\n",
       "      <td>Other</td>\n",
       "      <td>Bar, Casual Dining</td>\n",
       "      <td>Finger Food, North Indian</td>\n",
       "    </tr>\n",
       "  </tbody>\n",
       "</table>\n",
       "<p>41164 rows × 11 columns</p>\n",
       "</div>"
      ],
      "text/plain": [
       "       Unnamed: 0  online_order  book_table  Target  votes  \\\n",
       "0               0             1           1       1    775   \n",
       "1               1             1           0       1    787   \n",
       "2               2             1           0       1    918   \n",
       "3               3             0           0       0     88   \n",
       "4               4             0           0       1    166   \n",
       "...           ...           ...         ...     ...    ...   \n",
       "41159       51709             0           0       0     34   \n",
       "41160       51711             0           0       0     81   \n",
       "41161       51712             0           0       0     27   \n",
       "41162       51715             0           1       1    236   \n",
       "41163       51716             0           0       0     13   \n",
       "\n",
       "       approx_cost(for two people) listed_in(type) listed_in(city)  \\\n",
       "0                            800.0          Buffet    Banashankari   \n",
       "1                            800.0          Buffet    Banashankari   \n",
       "2                            800.0          Buffet    Banashankari   \n",
       "3                            300.0          Buffet    Banashankari   \n",
       "4                            600.0          Buffet    Banashankari   \n",
       "...                            ...             ...             ...   \n",
       "41159                        800.0   Pubs and bars      Whitefield   \n",
       "41160                        800.0   Pubs and bars      Whitefield   \n",
       "41161                       1500.0   Pubs and bars      Whitefield   \n",
       "41162                       2500.0   Pubs and bars      Whitefield   \n",
       "41163                       1500.0   Pubs and bars      Whitefield   \n",
       "\n",
       "      other_location_col  other_rest_type_col          other_cuisines_col  \n",
       "0           Banashankari        Casual Dining       North Indian, Mughlai  \n",
       "1           Banashankari        Casual Dining       Chinese, North Indian  \n",
       "2           Banashankari  Cafe, Casual Dining                       Other  \n",
       "3           Banashankari          Quick Bites  South Indian, North Indian  \n",
       "4           Basavanagudi        Casual Dining                       Other  \n",
       "...                  ...                  ...                         ...  \n",
       "41159         Whitefield   Bar, Casual Dining   North Indian, Continental  \n",
       "41160         Whitefield   Bar, Casual Dining        Andhra, South Indian  \n",
       "41161         Whitefield                  Bar                 Continental  \n",
       "41162              Other                  Bar                 Finger Food  \n",
       "41163              Other   Bar, Casual Dining   Finger Food, North Indian  \n",
       "\n",
       "[41164 rows x 11 columns]"
      ]
     },
     "execution_count": 6,
     "metadata": {},
     "output_type": "execute_result"
    }
   ],
   "source": [
    "df_cleaned"
   ]
  },
  {
   "cell_type": "code",
   "execution_count": 7,
   "id": "de928132",
   "metadata": {},
   "outputs": [],
   "source": [
    "df_cleaned.drop(['Unnamed: 0'], axis=1, inplace=True)"
   ]
  },
  {
   "cell_type": "code",
   "execution_count": 8,
   "id": "f037b4e3",
   "metadata": {},
   "outputs": [
    {
     "data": {
      "text/html": [
       "<div>\n",
       "<style scoped>\n",
       "    .dataframe tbody tr th:only-of-type {\n",
       "        vertical-align: middle;\n",
       "    }\n",
       "\n",
       "    .dataframe tbody tr th {\n",
       "        vertical-align: top;\n",
       "    }\n",
       "\n",
       "    .dataframe thead th {\n",
       "        text-align: right;\n",
       "    }\n",
       "</style>\n",
       "<table border=\"1\" class=\"dataframe\">\n",
       "  <thead>\n",
       "    <tr style=\"text-align: right;\">\n",
       "      <th></th>\n",
       "      <th>online_order</th>\n",
       "      <th>book_table</th>\n",
       "      <th>Target</th>\n",
       "      <th>votes</th>\n",
       "      <th>approx_cost(for two people)</th>\n",
       "      <th>listed_in(type)</th>\n",
       "      <th>listed_in(city)</th>\n",
       "      <th>other_location_col</th>\n",
       "      <th>other_rest_type_col</th>\n",
       "      <th>other_cuisines_col</th>\n",
       "    </tr>\n",
       "  </thead>\n",
       "  <tbody>\n",
       "    <tr>\n",
       "      <th>0</th>\n",
       "      <td>1</td>\n",
       "      <td>1</td>\n",
       "      <td>1</td>\n",
       "      <td>775</td>\n",
       "      <td>800.0</td>\n",
       "      <td>Buffet</td>\n",
       "      <td>Banashankari</td>\n",
       "      <td>Banashankari</td>\n",
       "      <td>Casual Dining</td>\n",
       "      <td>North Indian, Mughlai</td>\n",
       "    </tr>\n",
       "    <tr>\n",
       "      <th>1</th>\n",
       "      <td>1</td>\n",
       "      <td>0</td>\n",
       "      <td>1</td>\n",
       "      <td>787</td>\n",
       "      <td>800.0</td>\n",
       "      <td>Buffet</td>\n",
       "      <td>Banashankari</td>\n",
       "      <td>Banashankari</td>\n",
       "      <td>Casual Dining</td>\n",
       "      <td>Chinese, North Indian</td>\n",
       "    </tr>\n",
       "    <tr>\n",
       "      <th>2</th>\n",
       "      <td>1</td>\n",
       "      <td>0</td>\n",
       "      <td>1</td>\n",
       "      <td>918</td>\n",
       "      <td>800.0</td>\n",
       "      <td>Buffet</td>\n",
       "      <td>Banashankari</td>\n",
       "      <td>Banashankari</td>\n",
       "      <td>Cafe, Casual Dining</td>\n",
       "      <td>Other</td>\n",
       "    </tr>\n",
       "    <tr>\n",
       "      <th>3</th>\n",
       "      <td>0</td>\n",
       "      <td>0</td>\n",
       "      <td>0</td>\n",
       "      <td>88</td>\n",
       "      <td>300.0</td>\n",
       "      <td>Buffet</td>\n",
       "      <td>Banashankari</td>\n",
       "      <td>Banashankari</td>\n",
       "      <td>Quick Bites</td>\n",
       "      <td>South Indian, North Indian</td>\n",
       "    </tr>\n",
       "    <tr>\n",
       "      <th>4</th>\n",
       "      <td>0</td>\n",
       "      <td>0</td>\n",
       "      <td>1</td>\n",
       "      <td>166</td>\n",
       "      <td>600.0</td>\n",
       "      <td>Buffet</td>\n",
       "      <td>Banashankari</td>\n",
       "      <td>Basavanagudi</td>\n",
       "      <td>Casual Dining</td>\n",
       "      <td>Other</td>\n",
       "    </tr>\n",
       "    <tr>\n",
       "      <th>...</th>\n",
       "      <td>...</td>\n",
       "      <td>...</td>\n",
       "      <td>...</td>\n",
       "      <td>...</td>\n",
       "      <td>...</td>\n",
       "      <td>...</td>\n",
       "      <td>...</td>\n",
       "      <td>...</td>\n",
       "      <td>...</td>\n",
       "      <td>...</td>\n",
       "    </tr>\n",
       "    <tr>\n",
       "      <th>41159</th>\n",
       "      <td>0</td>\n",
       "      <td>0</td>\n",
       "      <td>0</td>\n",
       "      <td>34</td>\n",
       "      <td>800.0</td>\n",
       "      <td>Pubs and bars</td>\n",
       "      <td>Whitefield</td>\n",
       "      <td>Whitefield</td>\n",
       "      <td>Bar, Casual Dining</td>\n",
       "      <td>North Indian, Continental</td>\n",
       "    </tr>\n",
       "    <tr>\n",
       "      <th>41160</th>\n",
       "      <td>0</td>\n",
       "      <td>0</td>\n",
       "      <td>0</td>\n",
       "      <td>81</td>\n",
       "      <td>800.0</td>\n",
       "      <td>Pubs and bars</td>\n",
       "      <td>Whitefield</td>\n",
       "      <td>Whitefield</td>\n",
       "      <td>Bar, Casual Dining</td>\n",
       "      <td>Andhra, South Indian</td>\n",
       "    </tr>\n",
       "    <tr>\n",
       "      <th>41161</th>\n",
       "      <td>0</td>\n",
       "      <td>0</td>\n",
       "      <td>0</td>\n",
       "      <td>27</td>\n",
       "      <td>1500.0</td>\n",
       "      <td>Pubs and bars</td>\n",
       "      <td>Whitefield</td>\n",
       "      <td>Whitefield</td>\n",
       "      <td>Bar</td>\n",
       "      <td>Continental</td>\n",
       "    </tr>\n",
       "    <tr>\n",
       "      <th>41162</th>\n",
       "      <td>0</td>\n",
       "      <td>1</td>\n",
       "      <td>1</td>\n",
       "      <td>236</td>\n",
       "      <td>2500.0</td>\n",
       "      <td>Pubs and bars</td>\n",
       "      <td>Whitefield</td>\n",
       "      <td>Other</td>\n",
       "      <td>Bar</td>\n",
       "      <td>Finger Food</td>\n",
       "    </tr>\n",
       "    <tr>\n",
       "      <th>41163</th>\n",
       "      <td>0</td>\n",
       "      <td>0</td>\n",
       "      <td>0</td>\n",
       "      <td>13</td>\n",
       "      <td>1500.0</td>\n",
       "      <td>Pubs and bars</td>\n",
       "      <td>Whitefield</td>\n",
       "      <td>Other</td>\n",
       "      <td>Bar, Casual Dining</td>\n",
       "      <td>Finger Food, North Indian</td>\n",
       "    </tr>\n",
       "  </tbody>\n",
       "</table>\n",
       "<p>41164 rows × 10 columns</p>\n",
       "</div>"
      ],
      "text/plain": [
       "       online_order  book_table  Target  votes  approx_cost(for two people)  \\\n",
       "0                 1           1       1    775                        800.0   \n",
       "1                 1           0       1    787                        800.0   \n",
       "2                 1           0       1    918                        800.0   \n",
       "3                 0           0       0     88                        300.0   \n",
       "4                 0           0       1    166                        600.0   \n",
       "...             ...         ...     ...    ...                          ...   \n",
       "41159             0           0       0     34                        800.0   \n",
       "41160             0           0       0     81                        800.0   \n",
       "41161             0           0       0     27                       1500.0   \n",
       "41162             0           1       1    236                       2500.0   \n",
       "41163             0           0       0     13                       1500.0   \n",
       "\n",
       "      listed_in(type) listed_in(city) other_location_col  other_rest_type_col  \\\n",
       "0              Buffet    Banashankari       Banashankari        Casual Dining   \n",
       "1              Buffet    Banashankari       Banashankari        Casual Dining   \n",
       "2              Buffet    Banashankari       Banashankari  Cafe, Casual Dining   \n",
       "3              Buffet    Banashankari       Banashankari          Quick Bites   \n",
       "4              Buffet    Banashankari       Basavanagudi        Casual Dining   \n",
       "...               ...             ...                ...                  ...   \n",
       "41159   Pubs and bars      Whitefield         Whitefield   Bar, Casual Dining   \n",
       "41160   Pubs and bars      Whitefield         Whitefield   Bar, Casual Dining   \n",
       "41161   Pubs and bars      Whitefield         Whitefield                  Bar   \n",
       "41162   Pubs and bars      Whitefield              Other                  Bar   \n",
       "41163   Pubs and bars      Whitefield              Other   Bar, Casual Dining   \n",
       "\n",
       "               other_cuisines_col  \n",
       "0           North Indian, Mughlai  \n",
       "1           Chinese, North Indian  \n",
       "2                           Other  \n",
       "3      South Indian, North Indian  \n",
       "4                           Other  \n",
       "...                           ...  \n",
       "41159   North Indian, Continental  \n",
       "41160        Andhra, South Indian  \n",
       "41161                 Continental  \n",
       "41162                 Finger Food  \n",
       "41163   Finger Food, North Indian  \n",
       "\n",
       "[41164 rows x 10 columns]"
      ]
     },
     "execution_count": 8,
     "metadata": {},
     "output_type": "execute_result"
    }
   ],
   "source": [
    "df_cleaned"
   ]
  },
  {
   "cell_type": "code",
   "execution_count": 10,
   "id": "e6e9aba2",
   "metadata": {},
   "outputs": [
    {
     "name": "stdout",
     "output_type": "stream",
     "text": [
      "Encoded Data:\n",
      "       online_order  book_table  Target  votes  approx_cost(for two people)  \\\n",
      "0                 1           1       1    775                        800.0   \n",
      "1                 1           0       1    787                        800.0   \n",
      "2                 1           0       1    918                        800.0   \n",
      "3                 0           0       0     88                        300.0   \n",
      "4                 0           0       1    166                        600.0   \n",
      "...             ...         ...     ...    ...                          ...   \n",
      "41159             0           0       0     34                        800.0   \n",
      "41160             0           0       0     81                        800.0   \n",
      "41161             0           0       0     27                       1500.0   \n",
      "41162             0           1       1    236                       2500.0   \n",
      "41163             0           0       0     13                       1500.0   \n",
      "\n",
      "       listed_in(type)_freq  listed_in(city)_freq  other_location_col_freq  \\\n",
      "0                  0.020552              0.017637                 0.018074   \n",
      "1                  0.020552              0.017637                 0.018074   \n",
      "2                  0.020552              0.017637                 0.018074   \n",
      "3                  0.020552              0.017637                 0.018074   \n",
      "4                  0.020552              0.017637                 0.014381   \n",
      "...                     ...                   ...                      ...   \n",
      "41159              0.015305              0.029103                 0.038019   \n",
      "41160              0.015305              0.029103                 0.038019   \n",
      "41161              0.015305              0.029103                 0.038019   \n",
      "41162              0.015305              0.029103                 0.031800   \n",
      "41163              0.015305              0.029103                 0.031800   \n",
      "\n",
      "       other_rest_type_col_freq  other_cuisines_col_freq  \n",
      "0                      0.233116                 0.015499  \n",
      "1                      0.233116                 0.016325  \n",
      "2                      0.011734                 0.126615  \n",
      "3                      0.336265                 0.031678  \n",
      "4                      0.233116                 0.126615  \n",
      "...                         ...                      ...  \n",
      "41159                  0.035662                 0.009280  \n",
      "41160                  0.035662                 0.002284  \n",
      "41161                  0.015548                 0.003838  \n",
      "41162                  0.015548                 0.006073  \n",
      "41163                  0.035662                 0.002964  \n",
      "\n",
      "[41164 rows x 10 columns]\n"
     ]
    }
   ],
   "source": [
    "# Apply Frequency Encoding\n",
    "for col in ['listed_in(type)', 'listed_in(city)', 'other_location_col','other_rest_type_col','other_cuisines_col']:\n",
    "    freq_encoding = df_cleaned[col].value_counts(normalize=True)  # Get the frequency of each category\n",
    "    df_cleaned[col + '_freq'] = df_cleaned[col].map(freq_encoding)        # Map frequencies to the column\n",
    "\n",
    "# Drop original categorical columns as we only want the frequency-encoded columns\n",
    "df_encoded = df_cleaned.drop(columns=['listed_in(type)', 'listed_in(city)', 'other_location_col','other_rest_type_col','other_cuisines_col'])\n",
    "\n",
    "print(\"Encoded Data:\")\n",
    "print(df_encoded)\n"
   ]
  },
  {
   "cell_type": "code",
   "execution_count": 11,
   "id": "6f303919",
   "metadata": {
    "scrolled": true
   },
   "outputs": [
    {
     "data": {
      "text/html": [
       "<div>\n",
       "<style scoped>\n",
       "    .dataframe tbody tr th:only-of-type {\n",
       "        vertical-align: middle;\n",
       "    }\n",
       "\n",
       "    .dataframe tbody tr th {\n",
       "        vertical-align: top;\n",
       "    }\n",
       "\n",
       "    .dataframe thead th {\n",
       "        text-align: right;\n",
       "    }\n",
       "</style>\n",
       "<table border=\"1\" class=\"dataframe\">\n",
       "  <thead>\n",
       "    <tr style=\"text-align: right;\">\n",
       "      <th></th>\n",
       "      <th>online_order</th>\n",
       "      <th>book_table</th>\n",
       "      <th>Target</th>\n",
       "      <th>votes</th>\n",
       "      <th>approx_cost(for two people)</th>\n",
       "      <th>listed_in(type)_freq</th>\n",
       "      <th>listed_in(city)_freq</th>\n",
       "      <th>other_location_col_freq</th>\n",
       "      <th>other_rest_type_col_freq</th>\n",
       "      <th>other_cuisines_col_freq</th>\n",
       "    </tr>\n",
       "  </thead>\n",
       "  <tbody>\n",
       "    <tr>\n",
       "      <th>0</th>\n",
       "      <td>1</td>\n",
       "      <td>1</td>\n",
       "      <td>1</td>\n",
       "      <td>775</td>\n",
       "      <td>800.0</td>\n",
       "      <td>0.020552</td>\n",
       "      <td>0.017637</td>\n",
       "      <td>0.018074</td>\n",
       "      <td>0.233116</td>\n",
       "      <td>0.015499</td>\n",
       "    </tr>\n",
       "    <tr>\n",
       "      <th>1</th>\n",
       "      <td>1</td>\n",
       "      <td>0</td>\n",
       "      <td>1</td>\n",
       "      <td>787</td>\n",
       "      <td>800.0</td>\n",
       "      <td>0.020552</td>\n",
       "      <td>0.017637</td>\n",
       "      <td>0.018074</td>\n",
       "      <td>0.233116</td>\n",
       "      <td>0.016325</td>\n",
       "    </tr>\n",
       "    <tr>\n",
       "      <th>2</th>\n",
       "      <td>1</td>\n",
       "      <td>0</td>\n",
       "      <td>1</td>\n",
       "      <td>918</td>\n",
       "      <td>800.0</td>\n",
       "      <td>0.020552</td>\n",
       "      <td>0.017637</td>\n",
       "      <td>0.018074</td>\n",
       "      <td>0.011734</td>\n",
       "      <td>0.126615</td>\n",
       "    </tr>\n",
       "    <tr>\n",
       "      <th>3</th>\n",
       "      <td>0</td>\n",
       "      <td>0</td>\n",
       "      <td>0</td>\n",
       "      <td>88</td>\n",
       "      <td>300.0</td>\n",
       "      <td>0.020552</td>\n",
       "      <td>0.017637</td>\n",
       "      <td>0.018074</td>\n",
       "      <td>0.336265</td>\n",
       "      <td>0.031678</td>\n",
       "    </tr>\n",
       "    <tr>\n",
       "      <th>4</th>\n",
       "      <td>0</td>\n",
       "      <td>0</td>\n",
       "      <td>1</td>\n",
       "      <td>166</td>\n",
       "      <td>600.0</td>\n",
       "      <td>0.020552</td>\n",
       "      <td>0.017637</td>\n",
       "      <td>0.014381</td>\n",
       "      <td>0.233116</td>\n",
       "      <td>0.126615</td>\n",
       "    </tr>\n",
       "    <tr>\n",
       "      <th>...</th>\n",
       "      <td>...</td>\n",
       "      <td>...</td>\n",
       "      <td>...</td>\n",
       "      <td>...</td>\n",
       "      <td>...</td>\n",
       "      <td>...</td>\n",
       "      <td>...</td>\n",
       "      <td>...</td>\n",
       "      <td>...</td>\n",
       "      <td>...</td>\n",
       "    </tr>\n",
       "    <tr>\n",
       "      <th>41159</th>\n",
       "      <td>0</td>\n",
       "      <td>0</td>\n",
       "      <td>0</td>\n",
       "      <td>34</td>\n",
       "      <td>800.0</td>\n",
       "      <td>0.015305</td>\n",
       "      <td>0.029103</td>\n",
       "      <td>0.038019</td>\n",
       "      <td>0.035662</td>\n",
       "      <td>0.009280</td>\n",
       "    </tr>\n",
       "    <tr>\n",
       "      <th>41160</th>\n",
       "      <td>0</td>\n",
       "      <td>0</td>\n",
       "      <td>0</td>\n",
       "      <td>81</td>\n",
       "      <td>800.0</td>\n",
       "      <td>0.015305</td>\n",
       "      <td>0.029103</td>\n",
       "      <td>0.038019</td>\n",
       "      <td>0.035662</td>\n",
       "      <td>0.002284</td>\n",
       "    </tr>\n",
       "    <tr>\n",
       "      <th>41161</th>\n",
       "      <td>0</td>\n",
       "      <td>0</td>\n",
       "      <td>0</td>\n",
       "      <td>27</td>\n",
       "      <td>1500.0</td>\n",
       "      <td>0.015305</td>\n",
       "      <td>0.029103</td>\n",
       "      <td>0.038019</td>\n",
       "      <td>0.015548</td>\n",
       "      <td>0.003838</td>\n",
       "    </tr>\n",
       "    <tr>\n",
       "      <th>41162</th>\n",
       "      <td>0</td>\n",
       "      <td>1</td>\n",
       "      <td>1</td>\n",
       "      <td>236</td>\n",
       "      <td>2500.0</td>\n",
       "      <td>0.015305</td>\n",
       "      <td>0.029103</td>\n",
       "      <td>0.031800</td>\n",
       "      <td>0.015548</td>\n",
       "      <td>0.006073</td>\n",
       "    </tr>\n",
       "    <tr>\n",
       "      <th>41163</th>\n",
       "      <td>0</td>\n",
       "      <td>0</td>\n",
       "      <td>0</td>\n",
       "      <td>13</td>\n",
       "      <td>1500.0</td>\n",
       "      <td>0.015305</td>\n",
       "      <td>0.029103</td>\n",
       "      <td>0.031800</td>\n",
       "      <td>0.035662</td>\n",
       "      <td>0.002964</td>\n",
       "    </tr>\n",
       "  </tbody>\n",
       "</table>\n",
       "<p>41164 rows × 10 columns</p>\n",
       "</div>"
      ],
      "text/plain": [
       "       online_order  book_table  Target  votes  approx_cost(for two people)  \\\n",
       "0                 1           1       1    775                        800.0   \n",
       "1                 1           0       1    787                        800.0   \n",
       "2                 1           0       1    918                        800.0   \n",
       "3                 0           0       0     88                        300.0   \n",
       "4                 0           0       1    166                        600.0   \n",
       "...             ...         ...     ...    ...                          ...   \n",
       "41159             0           0       0     34                        800.0   \n",
       "41160             0           0       0     81                        800.0   \n",
       "41161             0           0       0     27                       1500.0   \n",
       "41162             0           1       1    236                       2500.0   \n",
       "41163             0           0       0     13                       1500.0   \n",
       "\n",
       "       listed_in(type)_freq  listed_in(city)_freq  other_location_col_freq  \\\n",
       "0                  0.020552              0.017637                 0.018074   \n",
       "1                  0.020552              0.017637                 0.018074   \n",
       "2                  0.020552              0.017637                 0.018074   \n",
       "3                  0.020552              0.017637                 0.018074   \n",
       "4                  0.020552              0.017637                 0.014381   \n",
       "...                     ...                   ...                      ...   \n",
       "41159              0.015305              0.029103                 0.038019   \n",
       "41160              0.015305              0.029103                 0.038019   \n",
       "41161              0.015305              0.029103                 0.038019   \n",
       "41162              0.015305              0.029103                 0.031800   \n",
       "41163              0.015305              0.029103                 0.031800   \n",
       "\n",
       "       other_rest_type_col_freq  other_cuisines_col_freq  \n",
       "0                      0.233116                 0.015499  \n",
       "1                      0.233116                 0.016325  \n",
       "2                      0.011734                 0.126615  \n",
       "3                      0.336265                 0.031678  \n",
       "4                      0.233116                 0.126615  \n",
       "...                         ...                      ...  \n",
       "41159                  0.035662                 0.009280  \n",
       "41160                  0.035662                 0.002284  \n",
       "41161                  0.015548                 0.003838  \n",
       "41162                  0.015548                 0.006073  \n",
       "41163                  0.035662                 0.002964  \n",
       "\n",
       "[41164 rows x 10 columns]"
      ]
     },
     "execution_count": 11,
     "metadata": {},
     "output_type": "execute_result"
    }
   ],
   "source": [
    "df_encoded"
   ]
  },
  {
   "cell_type": "code",
   "execution_count": 22,
   "id": "48d16c01",
   "metadata": {},
   "outputs": [],
   "source": [
    "# Split data into features (X) and target (y)\n",
    "X = df_encoded.drop(columns=['Target'])  # Features (encoded columns)\n",
    "y = df_encoded['Target']  # Target column\n",
    "\n",
    "# Split the data into training and testing sets (80% train, 20% test)\n",
    "X_train, X_test, y_train, y_test = train_test_split(X, y, test_size=0.2, random_state=42)\n",
    "\n",
    "# Standardize the frequency-encoded data for SVC\n",
    "scaler = StandardScaler()\n",
    "\n",
    "# Fit the scaler on the training data and transform both train and test sets\n",
    "X_train_scaled = scaler.fit_transform(X_train)\n",
    "X_test_scaled = scaler.transform(X_test)\n",
    "\n",
    "#print(\"\\nTraining Features (after standardization):\")\n",
    "#print(X_train_scaled)\n"
   ]
  },
  {
   "cell_type": "code",
   "execution_count": 23,
   "id": "180c37ea",
   "metadata": {},
   "outputs": [
    {
     "data": {
      "text/html": [
       "<style>#sk-container-id-3 {\n",
       "  /* Definition of color scheme common for light and dark mode */\n",
       "  --sklearn-color-text: black;\n",
       "  --sklearn-color-line: gray;\n",
       "  /* Definition of color scheme for unfitted estimators */\n",
       "  --sklearn-color-unfitted-level-0: #fff5e6;\n",
       "  --sklearn-color-unfitted-level-1: #f6e4d2;\n",
       "  --sklearn-color-unfitted-level-2: #ffe0b3;\n",
       "  --sklearn-color-unfitted-level-3: chocolate;\n",
       "  /* Definition of color scheme for fitted estimators */\n",
       "  --sklearn-color-fitted-level-0: #f0f8ff;\n",
       "  --sklearn-color-fitted-level-1: #d4ebff;\n",
       "  --sklearn-color-fitted-level-2: #b3dbfd;\n",
       "  --sklearn-color-fitted-level-3: cornflowerblue;\n",
       "\n",
       "  /* Specific color for light theme */\n",
       "  --sklearn-color-text-on-default-background: var(--sg-text-color, var(--theme-code-foreground, var(--jp-content-font-color1, black)));\n",
       "  --sklearn-color-background: var(--sg-background-color, var(--theme-background, var(--jp-layout-color0, white)));\n",
       "  --sklearn-color-border-box: var(--sg-text-color, var(--theme-code-foreground, var(--jp-content-font-color1, black)));\n",
       "  --sklearn-color-icon: #696969;\n",
       "\n",
       "  @media (prefers-color-scheme: dark) {\n",
       "    /* Redefinition of color scheme for dark theme */\n",
       "    --sklearn-color-text-on-default-background: var(--sg-text-color, var(--theme-code-foreground, var(--jp-content-font-color1, white)));\n",
       "    --sklearn-color-background: var(--sg-background-color, var(--theme-background, var(--jp-layout-color0, #111)));\n",
       "    --sklearn-color-border-box: var(--sg-text-color, var(--theme-code-foreground, var(--jp-content-font-color1, white)));\n",
       "    --sklearn-color-icon: #878787;\n",
       "  }\n",
       "}\n",
       "\n",
       "#sk-container-id-3 {\n",
       "  color: var(--sklearn-color-text);\n",
       "}\n",
       "\n",
       "#sk-container-id-3 pre {\n",
       "  padding: 0;\n",
       "}\n",
       "\n",
       "#sk-container-id-3 input.sk-hidden--visually {\n",
       "  border: 0;\n",
       "  clip: rect(1px 1px 1px 1px);\n",
       "  clip: rect(1px, 1px, 1px, 1px);\n",
       "  height: 1px;\n",
       "  margin: -1px;\n",
       "  overflow: hidden;\n",
       "  padding: 0;\n",
       "  position: absolute;\n",
       "  width: 1px;\n",
       "}\n",
       "\n",
       "#sk-container-id-3 div.sk-dashed-wrapped {\n",
       "  border: 1px dashed var(--sklearn-color-line);\n",
       "  margin: 0 0.4em 0.5em 0.4em;\n",
       "  box-sizing: border-box;\n",
       "  padding-bottom: 0.4em;\n",
       "  background-color: var(--sklearn-color-background);\n",
       "}\n",
       "\n",
       "#sk-container-id-3 div.sk-container {\n",
       "  /* jupyter's `normalize.less` sets `[hidden] { display: none; }`\n",
       "     but bootstrap.min.css set `[hidden] { display: none !important; }`\n",
       "     so we also need the `!important` here to be able to override the\n",
       "     default hidden behavior on the sphinx rendered scikit-learn.org.\n",
       "     See: https://github.com/scikit-learn/scikit-learn/issues/21755 */\n",
       "  display: inline-block !important;\n",
       "  position: relative;\n",
       "}\n",
       "\n",
       "#sk-container-id-3 div.sk-text-repr-fallback {\n",
       "  display: none;\n",
       "}\n",
       "\n",
       "div.sk-parallel-item,\n",
       "div.sk-serial,\n",
       "div.sk-item {\n",
       "  /* draw centered vertical line to link estimators */\n",
       "  background-image: linear-gradient(var(--sklearn-color-text-on-default-background), var(--sklearn-color-text-on-default-background));\n",
       "  background-size: 2px 100%;\n",
       "  background-repeat: no-repeat;\n",
       "  background-position: center center;\n",
       "}\n",
       "\n",
       "/* Parallel-specific style estimator block */\n",
       "\n",
       "#sk-container-id-3 div.sk-parallel-item::after {\n",
       "  content: \"\";\n",
       "  width: 100%;\n",
       "  border-bottom: 2px solid var(--sklearn-color-text-on-default-background);\n",
       "  flex-grow: 1;\n",
       "}\n",
       "\n",
       "#sk-container-id-3 div.sk-parallel {\n",
       "  display: flex;\n",
       "  align-items: stretch;\n",
       "  justify-content: center;\n",
       "  background-color: var(--sklearn-color-background);\n",
       "  position: relative;\n",
       "}\n",
       "\n",
       "#sk-container-id-3 div.sk-parallel-item {\n",
       "  display: flex;\n",
       "  flex-direction: column;\n",
       "}\n",
       "\n",
       "#sk-container-id-3 div.sk-parallel-item:first-child::after {\n",
       "  align-self: flex-end;\n",
       "  width: 50%;\n",
       "}\n",
       "\n",
       "#sk-container-id-3 div.sk-parallel-item:last-child::after {\n",
       "  align-self: flex-start;\n",
       "  width: 50%;\n",
       "}\n",
       "\n",
       "#sk-container-id-3 div.sk-parallel-item:only-child::after {\n",
       "  width: 0;\n",
       "}\n",
       "\n",
       "/* Serial-specific style estimator block */\n",
       "\n",
       "#sk-container-id-3 div.sk-serial {\n",
       "  display: flex;\n",
       "  flex-direction: column;\n",
       "  align-items: center;\n",
       "  background-color: var(--sklearn-color-background);\n",
       "  padding-right: 1em;\n",
       "  padding-left: 1em;\n",
       "}\n",
       "\n",
       "\n",
       "/* Toggleable style: style used for estimator/Pipeline/ColumnTransformer box that is\n",
       "clickable and can be expanded/collapsed.\n",
       "- Pipeline and ColumnTransformer use this feature and define the default style\n",
       "- Estimators will overwrite some part of the style using the `sk-estimator` class\n",
       "*/\n",
       "\n",
       "/* Pipeline and ColumnTransformer style (default) */\n",
       "\n",
       "#sk-container-id-3 div.sk-toggleable {\n",
       "  /* Default theme specific background. It is overwritten whether we have a\n",
       "  specific estimator or a Pipeline/ColumnTransformer */\n",
       "  background-color: var(--sklearn-color-background);\n",
       "}\n",
       "\n",
       "/* Toggleable label */\n",
       "#sk-container-id-3 label.sk-toggleable__label {\n",
       "  cursor: pointer;\n",
       "  display: block;\n",
       "  width: 100%;\n",
       "  margin-bottom: 0;\n",
       "  padding: 0.5em;\n",
       "  box-sizing: border-box;\n",
       "  text-align: center;\n",
       "}\n",
       "\n",
       "#sk-container-id-3 label.sk-toggleable__label-arrow:before {\n",
       "  /* Arrow on the left of the label */\n",
       "  content: \"▸\";\n",
       "  float: left;\n",
       "  margin-right: 0.25em;\n",
       "  color: var(--sklearn-color-icon);\n",
       "}\n",
       "\n",
       "#sk-container-id-3 label.sk-toggleable__label-arrow:hover:before {\n",
       "  color: var(--sklearn-color-text);\n",
       "}\n",
       "\n",
       "/* Toggleable content - dropdown */\n",
       "\n",
       "#sk-container-id-3 div.sk-toggleable__content {\n",
       "  max-height: 0;\n",
       "  max-width: 0;\n",
       "  overflow: hidden;\n",
       "  text-align: left;\n",
       "  /* unfitted */\n",
       "  background-color: var(--sklearn-color-unfitted-level-0);\n",
       "}\n",
       "\n",
       "#sk-container-id-3 div.sk-toggleable__content.fitted {\n",
       "  /* fitted */\n",
       "  background-color: var(--sklearn-color-fitted-level-0);\n",
       "}\n",
       "\n",
       "#sk-container-id-3 div.sk-toggleable__content pre {\n",
       "  margin: 0.2em;\n",
       "  border-radius: 0.25em;\n",
       "  color: var(--sklearn-color-text);\n",
       "  /* unfitted */\n",
       "  background-color: var(--sklearn-color-unfitted-level-0);\n",
       "}\n",
       "\n",
       "#sk-container-id-3 div.sk-toggleable__content.fitted pre {\n",
       "  /* unfitted */\n",
       "  background-color: var(--sklearn-color-fitted-level-0);\n",
       "}\n",
       "\n",
       "#sk-container-id-3 input.sk-toggleable__control:checked~div.sk-toggleable__content {\n",
       "  /* Expand drop-down */\n",
       "  max-height: 200px;\n",
       "  max-width: 100%;\n",
       "  overflow: auto;\n",
       "}\n",
       "\n",
       "#sk-container-id-3 input.sk-toggleable__control:checked~label.sk-toggleable__label-arrow:before {\n",
       "  content: \"▾\";\n",
       "}\n",
       "\n",
       "/* Pipeline/ColumnTransformer-specific style */\n",
       "\n",
       "#sk-container-id-3 div.sk-label input.sk-toggleable__control:checked~label.sk-toggleable__label {\n",
       "  color: var(--sklearn-color-text);\n",
       "  background-color: var(--sklearn-color-unfitted-level-2);\n",
       "}\n",
       "\n",
       "#sk-container-id-3 div.sk-label.fitted input.sk-toggleable__control:checked~label.sk-toggleable__label {\n",
       "  background-color: var(--sklearn-color-fitted-level-2);\n",
       "}\n",
       "\n",
       "/* Estimator-specific style */\n",
       "\n",
       "/* Colorize estimator box */\n",
       "#sk-container-id-3 div.sk-estimator input.sk-toggleable__control:checked~label.sk-toggleable__label {\n",
       "  /* unfitted */\n",
       "  background-color: var(--sklearn-color-unfitted-level-2);\n",
       "}\n",
       "\n",
       "#sk-container-id-3 div.sk-estimator.fitted input.sk-toggleable__control:checked~label.sk-toggleable__label {\n",
       "  /* fitted */\n",
       "  background-color: var(--sklearn-color-fitted-level-2);\n",
       "}\n",
       "\n",
       "#sk-container-id-3 div.sk-label label.sk-toggleable__label,\n",
       "#sk-container-id-3 div.sk-label label {\n",
       "  /* The background is the default theme color */\n",
       "  color: var(--sklearn-color-text-on-default-background);\n",
       "}\n",
       "\n",
       "/* On hover, darken the color of the background */\n",
       "#sk-container-id-3 div.sk-label:hover label.sk-toggleable__label {\n",
       "  color: var(--sklearn-color-text);\n",
       "  background-color: var(--sklearn-color-unfitted-level-2);\n",
       "}\n",
       "\n",
       "/* Label box, darken color on hover, fitted */\n",
       "#sk-container-id-3 div.sk-label.fitted:hover label.sk-toggleable__label.fitted {\n",
       "  color: var(--sklearn-color-text);\n",
       "  background-color: var(--sklearn-color-fitted-level-2);\n",
       "}\n",
       "\n",
       "/* Estimator label */\n",
       "\n",
       "#sk-container-id-3 div.sk-label label {\n",
       "  font-family: monospace;\n",
       "  font-weight: bold;\n",
       "  display: inline-block;\n",
       "  line-height: 1.2em;\n",
       "}\n",
       "\n",
       "#sk-container-id-3 div.sk-label-container {\n",
       "  text-align: center;\n",
       "}\n",
       "\n",
       "/* Estimator-specific */\n",
       "#sk-container-id-3 div.sk-estimator {\n",
       "  font-family: monospace;\n",
       "  border: 1px dotted var(--sklearn-color-border-box);\n",
       "  border-radius: 0.25em;\n",
       "  box-sizing: border-box;\n",
       "  margin-bottom: 0.5em;\n",
       "  /* unfitted */\n",
       "  background-color: var(--sklearn-color-unfitted-level-0);\n",
       "}\n",
       "\n",
       "#sk-container-id-3 div.sk-estimator.fitted {\n",
       "  /* fitted */\n",
       "  background-color: var(--sklearn-color-fitted-level-0);\n",
       "}\n",
       "\n",
       "/* on hover */\n",
       "#sk-container-id-3 div.sk-estimator:hover {\n",
       "  /* unfitted */\n",
       "  background-color: var(--sklearn-color-unfitted-level-2);\n",
       "}\n",
       "\n",
       "#sk-container-id-3 div.sk-estimator.fitted:hover {\n",
       "  /* fitted */\n",
       "  background-color: var(--sklearn-color-fitted-level-2);\n",
       "}\n",
       "\n",
       "/* Specification for estimator info (e.g. \"i\" and \"?\") */\n",
       "\n",
       "/* Common style for \"i\" and \"?\" */\n",
       "\n",
       ".sk-estimator-doc-link,\n",
       "a:link.sk-estimator-doc-link,\n",
       "a:visited.sk-estimator-doc-link {\n",
       "  float: right;\n",
       "  font-size: smaller;\n",
       "  line-height: 1em;\n",
       "  font-family: monospace;\n",
       "  background-color: var(--sklearn-color-background);\n",
       "  border-radius: 1em;\n",
       "  height: 1em;\n",
       "  width: 1em;\n",
       "  text-decoration: none !important;\n",
       "  margin-left: 1ex;\n",
       "  /* unfitted */\n",
       "  border: var(--sklearn-color-unfitted-level-1) 1pt solid;\n",
       "  color: var(--sklearn-color-unfitted-level-1);\n",
       "}\n",
       "\n",
       ".sk-estimator-doc-link.fitted,\n",
       "a:link.sk-estimator-doc-link.fitted,\n",
       "a:visited.sk-estimator-doc-link.fitted {\n",
       "  /* fitted */\n",
       "  border: var(--sklearn-color-fitted-level-1) 1pt solid;\n",
       "  color: var(--sklearn-color-fitted-level-1);\n",
       "}\n",
       "\n",
       "/* On hover */\n",
       "div.sk-estimator:hover .sk-estimator-doc-link:hover,\n",
       ".sk-estimator-doc-link:hover,\n",
       "div.sk-label-container:hover .sk-estimator-doc-link:hover,\n",
       ".sk-estimator-doc-link:hover {\n",
       "  /* unfitted */\n",
       "  background-color: var(--sklearn-color-unfitted-level-3);\n",
       "  color: var(--sklearn-color-background);\n",
       "  text-decoration: none;\n",
       "}\n",
       "\n",
       "div.sk-estimator.fitted:hover .sk-estimator-doc-link.fitted:hover,\n",
       ".sk-estimator-doc-link.fitted:hover,\n",
       "div.sk-label-container:hover .sk-estimator-doc-link.fitted:hover,\n",
       ".sk-estimator-doc-link.fitted:hover {\n",
       "  /* fitted */\n",
       "  background-color: var(--sklearn-color-fitted-level-3);\n",
       "  color: var(--sklearn-color-background);\n",
       "  text-decoration: none;\n",
       "}\n",
       "\n",
       "/* Span, style for the box shown on hovering the info icon */\n",
       ".sk-estimator-doc-link span {\n",
       "  display: none;\n",
       "  z-index: 9999;\n",
       "  position: relative;\n",
       "  font-weight: normal;\n",
       "  right: .2ex;\n",
       "  padding: .5ex;\n",
       "  margin: .5ex;\n",
       "  width: min-content;\n",
       "  min-width: 20ex;\n",
       "  max-width: 50ex;\n",
       "  color: var(--sklearn-color-text);\n",
       "  box-shadow: 2pt 2pt 4pt #999;\n",
       "  /* unfitted */\n",
       "  background: var(--sklearn-color-unfitted-level-0);\n",
       "  border: .5pt solid var(--sklearn-color-unfitted-level-3);\n",
       "}\n",
       "\n",
       ".sk-estimator-doc-link.fitted span {\n",
       "  /* fitted */\n",
       "  background: var(--sklearn-color-fitted-level-0);\n",
       "  border: var(--sklearn-color-fitted-level-3);\n",
       "}\n",
       "\n",
       ".sk-estimator-doc-link:hover span {\n",
       "  display: block;\n",
       "}\n",
       "\n",
       "/* \"?\"-specific style due to the `<a>` HTML tag */\n",
       "\n",
       "#sk-container-id-3 a.estimator_doc_link {\n",
       "  float: right;\n",
       "  font-size: 1rem;\n",
       "  line-height: 1em;\n",
       "  font-family: monospace;\n",
       "  background-color: var(--sklearn-color-background);\n",
       "  border-radius: 1rem;\n",
       "  height: 1rem;\n",
       "  width: 1rem;\n",
       "  text-decoration: none;\n",
       "  /* unfitted */\n",
       "  color: var(--sklearn-color-unfitted-level-1);\n",
       "  border: var(--sklearn-color-unfitted-level-1) 1pt solid;\n",
       "}\n",
       "\n",
       "#sk-container-id-3 a.estimator_doc_link.fitted {\n",
       "  /* fitted */\n",
       "  border: var(--sklearn-color-fitted-level-1) 1pt solid;\n",
       "  color: var(--sklearn-color-fitted-level-1);\n",
       "}\n",
       "\n",
       "/* On hover */\n",
       "#sk-container-id-3 a.estimator_doc_link:hover {\n",
       "  /* unfitted */\n",
       "  background-color: var(--sklearn-color-unfitted-level-3);\n",
       "  color: var(--sklearn-color-background);\n",
       "  text-decoration: none;\n",
       "}\n",
       "\n",
       "#sk-container-id-3 a.estimator_doc_link.fitted:hover {\n",
       "  /* fitted */\n",
       "  background-color: var(--sklearn-color-fitted-level-3);\n",
       "}\n",
       "</style><div id=\"sk-container-id-3\" class=\"sk-top-container\"><div class=\"sk-text-repr-fallback\"><pre>SVC(kernel=&#x27;linear&#x27;, random_state=42)</pre><b>In a Jupyter environment, please rerun this cell to show the HTML representation or trust the notebook. <br />On GitHub, the HTML representation is unable to render, please try loading this page with nbviewer.org.</b></div><div class=\"sk-container\" hidden><div class=\"sk-item\"><div class=\"sk-estimator fitted sk-toggleable\"><input class=\"sk-toggleable__control sk-hidden--visually\" id=\"sk-estimator-id-3\" type=\"checkbox\" checked><label for=\"sk-estimator-id-3\" class=\"sk-toggleable__label fitted sk-toggleable__label-arrow fitted\">&nbsp;&nbsp;SVC<a class=\"sk-estimator-doc-link fitted\" rel=\"noreferrer\" target=\"_blank\" href=\"https://scikit-learn.org/1.5/modules/generated/sklearn.svm.SVC.html\">?<span>Documentation for SVC</span></a><span class=\"sk-estimator-doc-link fitted\">i<span>Fitted</span></span></label><div class=\"sk-toggleable__content fitted\"><pre>SVC(kernel=&#x27;linear&#x27;, random_state=42)</pre></div> </div></div></div></div>"
      ],
      "text/plain": [
       "SVC(kernel='linear', random_state=42)"
      ]
     },
     "execution_count": 23,
     "metadata": {},
     "output_type": "execute_result"
    }
   ],
   "source": [
    "# Initialize the Support Vector Classifier\n",
    "svc_model = SVC(kernel='linear', random_state=42)\n",
    "\n",
    "# Train the SVC model on the training data\n",
    "svc_model.fit(X_train_scaled, y_train)\n",
    "\n",
    "#print(\"\\nSVC model training complete!\")\n"
   ]
  },
  {
   "cell_type": "code",
   "execution_count": 24,
   "id": "60ee590d",
   "metadata": {},
   "outputs": [],
   "source": [
    "# Make predictions on the test set\n",
    "y_pred = svc_model.predict(X_test_scaled)\n",
    "\n",
    "# Evaluate the model accuracy\n",
    "accuracy = accuracy_score(y_test, y_pred)\n",
    "\n"
   ]
  },
  {
   "cell_type": "code",
   "execution_count": 25,
   "id": "271e7ae2",
   "metadata": {
    "scrolled": true
   },
   "outputs": [
    {
     "name": "stdout",
     "output_type": "stream",
     "text": [
      "\n",
      "SVC Model Accuracy: 77.10%\n"
     ]
    }
   ],
   "source": [
    "print(f\"\\nSVC Model Accuracy: {accuracy * 100:.2f}%\")"
   ]
  },
  {
   "cell_type": "markdown",
   "id": "76531917",
   "metadata": {},
   "source": [
    "# applying randomforest model"
   ]
  },
  {
   "cell_type": "code",
   "execution_count": 27,
   "id": "34d236bb",
   "metadata": {},
   "outputs": [],
   "source": [
    "# Split data into features (X) and target (y)\n",
    "X = df_encoded.drop(columns=['Target'])  # Features (encoded columns)\n",
    "y = df_encoded['Target']  # Target column\n",
    "\n",
    "# Split the data into training and testing sets (80% train, 20% test)\n",
    "X_train, X_test, y_train, y_test = train_test_split(X, y, test_size=0.2, random_state=42)"
   ]
  },
  {
   "cell_type": "code",
   "execution_count": 28,
   "id": "8b944554",
   "metadata": {},
   "outputs": [
    {
     "data": {
      "text/html": [
       "<style>#sk-container-id-4 {\n",
       "  /* Definition of color scheme common for light and dark mode */\n",
       "  --sklearn-color-text: black;\n",
       "  --sklearn-color-line: gray;\n",
       "  /* Definition of color scheme for unfitted estimators */\n",
       "  --sklearn-color-unfitted-level-0: #fff5e6;\n",
       "  --sklearn-color-unfitted-level-1: #f6e4d2;\n",
       "  --sklearn-color-unfitted-level-2: #ffe0b3;\n",
       "  --sklearn-color-unfitted-level-3: chocolate;\n",
       "  /* Definition of color scheme for fitted estimators */\n",
       "  --sklearn-color-fitted-level-0: #f0f8ff;\n",
       "  --sklearn-color-fitted-level-1: #d4ebff;\n",
       "  --sklearn-color-fitted-level-2: #b3dbfd;\n",
       "  --sklearn-color-fitted-level-3: cornflowerblue;\n",
       "\n",
       "  /* Specific color for light theme */\n",
       "  --sklearn-color-text-on-default-background: var(--sg-text-color, var(--theme-code-foreground, var(--jp-content-font-color1, black)));\n",
       "  --sklearn-color-background: var(--sg-background-color, var(--theme-background, var(--jp-layout-color0, white)));\n",
       "  --sklearn-color-border-box: var(--sg-text-color, var(--theme-code-foreground, var(--jp-content-font-color1, black)));\n",
       "  --sklearn-color-icon: #696969;\n",
       "\n",
       "  @media (prefers-color-scheme: dark) {\n",
       "    /* Redefinition of color scheme for dark theme */\n",
       "    --sklearn-color-text-on-default-background: var(--sg-text-color, var(--theme-code-foreground, var(--jp-content-font-color1, white)));\n",
       "    --sklearn-color-background: var(--sg-background-color, var(--theme-background, var(--jp-layout-color0, #111)));\n",
       "    --sklearn-color-border-box: var(--sg-text-color, var(--theme-code-foreground, var(--jp-content-font-color1, white)));\n",
       "    --sklearn-color-icon: #878787;\n",
       "  }\n",
       "}\n",
       "\n",
       "#sk-container-id-4 {\n",
       "  color: var(--sklearn-color-text);\n",
       "}\n",
       "\n",
       "#sk-container-id-4 pre {\n",
       "  padding: 0;\n",
       "}\n",
       "\n",
       "#sk-container-id-4 input.sk-hidden--visually {\n",
       "  border: 0;\n",
       "  clip: rect(1px 1px 1px 1px);\n",
       "  clip: rect(1px, 1px, 1px, 1px);\n",
       "  height: 1px;\n",
       "  margin: -1px;\n",
       "  overflow: hidden;\n",
       "  padding: 0;\n",
       "  position: absolute;\n",
       "  width: 1px;\n",
       "}\n",
       "\n",
       "#sk-container-id-4 div.sk-dashed-wrapped {\n",
       "  border: 1px dashed var(--sklearn-color-line);\n",
       "  margin: 0 0.4em 0.5em 0.4em;\n",
       "  box-sizing: border-box;\n",
       "  padding-bottom: 0.4em;\n",
       "  background-color: var(--sklearn-color-background);\n",
       "}\n",
       "\n",
       "#sk-container-id-4 div.sk-container {\n",
       "  /* jupyter's `normalize.less` sets `[hidden] { display: none; }`\n",
       "     but bootstrap.min.css set `[hidden] { display: none !important; }`\n",
       "     so we also need the `!important` here to be able to override the\n",
       "     default hidden behavior on the sphinx rendered scikit-learn.org.\n",
       "     See: https://github.com/scikit-learn/scikit-learn/issues/21755 */\n",
       "  display: inline-block !important;\n",
       "  position: relative;\n",
       "}\n",
       "\n",
       "#sk-container-id-4 div.sk-text-repr-fallback {\n",
       "  display: none;\n",
       "}\n",
       "\n",
       "div.sk-parallel-item,\n",
       "div.sk-serial,\n",
       "div.sk-item {\n",
       "  /* draw centered vertical line to link estimators */\n",
       "  background-image: linear-gradient(var(--sklearn-color-text-on-default-background), var(--sklearn-color-text-on-default-background));\n",
       "  background-size: 2px 100%;\n",
       "  background-repeat: no-repeat;\n",
       "  background-position: center center;\n",
       "}\n",
       "\n",
       "/* Parallel-specific style estimator block */\n",
       "\n",
       "#sk-container-id-4 div.sk-parallel-item::after {\n",
       "  content: \"\";\n",
       "  width: 100%;\n",
       "  border-bottom: 2px solid var(--sklearn-color-text-on-default-background);\n",
       "  flex-grow: 1;\n",
       "}\n",
       "\n",
       "#sk-container-id-4 div.sk-parallel {\n",
       "  display: flex;\n",
       "  align-items: stretch;\n",
       "  justify-content: center;\n",
       "  background-color: var(--sklearn-color-background);\n",
       "  position: relative;\n",
       "}\n",
       "\n",
       "#sk-container-id-4 div.sk-parallel-item {\n",
       "  display: flex;\n",
       "  flex-direction: column;\n",
       "}\n",
       "\n",
       "#sk-container-id-4 div.sk-parallel-item:first-child::after {\n",
       "  align-self: flex-end;\n",
       "  width: 50%;\n",
       "}\n",
       "\n",
       "#sk-container-id-4 div.sk-parallel-item:last-child::after {\n",
       "  align-self: flex-start;\n",
       "  width: 50%;\n",
       "}\n",
       "\n",
       "#sk-container-id-4 div.sk-parallel-item:only-child::after {\n",
       "  width: 0;\n",
       "}\n",
       "\n",
       "/* Serial-specific style estimator block */\n",
       "\n",
       "#sk-container-id-4 div.sk-serial {\n",
       "  display: flex;\n",
       "  flex-direction: column;\n",
       "  align-items: center;\n",
       "  background-color: var(--sklearn-color-background);\n",
       "  padding-right: 1em;\n",
       "  padding-left: 1em;\n",
       "}\n",
       "\n",
       "\n",
       "/* Toggleable style: style used for estimator/Pipeline/ColumnTransformer box that is\n",
       "clickable and can be expanded/collapsed.\n",
       "- Pipeline and ColumnTransformer use this feature and define the default style\n",
       "- Estimators will overwrite some part of the style using the `sk-estimator` class\n",
       "*/\n",
       "\n",
       "/* Pipeline and ColumnTransformer style (default) */\n",
       "\n",
       "#sk-container-id-4 div.sk-toggleable {\n",
       "  /* Default theme specific background. It is overwritten whether we have a\n",
       "  specific estimator or a Pipeline/ColumnTransformer */\n",
       "  background-color: var(--sklearn-color-background);\n",
       "}\n",
       "\n",
       "/* Toggleable label */\n",
       "#sk-container-id-4 label.sk-toggleable__label {\n",
       "  cursor: pointer;\n",
       "  display: block;\n",
       "  width: 100%;\n",
       "  margin-bottom: 0;\n",
       "  padding: 0.5em;\n",
       "  box-sizing: border-box;\n",
       "  text-align: center;\n",
       "}\n",
       "\n",
       "#sk-container-id-4 label.sk-toggleable__label-arrow:before {\n",
       "  /* Arrow on the left of the label */\n",
       "  content: \"▸\";\n",
       "  float: left;\n",
       "  margin-right: 0.25em;\n",
       "  color: var(--sklearn-color-icon);\n",
       "}\n",
       "\n",
       "#sk-container-id-4 label.sk-toggleable__label-arrow:hover:before {\n",
       "  color: var(--sklearn-color-text);\n",
       "}\n",
       "\n",
       "/* Toggleable content - dropdown */\n",
       "\n",
       "#sk-container-id-4 div.sk-toggleable__content {\n",
       "  max-height: 0;\n",
       "  max-width: 0;\n",
       "  overflow: hidden;\n",
       "  text-align: left;\n",
       "  /* unfitted */\n",
       "  background-color: var(--sklearn-color-unfitted-level-0);\n",
       "}\n",
       "\n",
       "#sk-container-id-4 div.sk-toggleable__content.fitted {\n",
       "  /* fitted */\n",
       "  background-color: var(--sklearn-color-fitted-level-0);\n",
       "}\n",
       "\n",
       "#sk-container-id-4 div.sk-toggleable__content pre {\n",
       "  margin: 0.2em;\n",
       "  border-radius: 0.25em;\n",
       "  color: var(--sklearn-color-text);\n",
       "  /* unfitted */\n",
       "  background-color: var(--sklearn-color-unfitted-level-0);\n",
       "}\n",
       "\n",
       "#sk-container-id-4 div.sk-toggleable__content.fitted pre {\n",
       "  /* unfitted */\n",
       "  background-color: var(--sklearn-color-fitted-level-0);\n",
       "}\n",
       "\n",
       "#sk-container-id-4 input.sk-toggleable__control:checked~div.sk-toggleable__content {\n",
       "  /* Expand drop-down */\n",
       "  max-height: 200px;\n",
       "  max-width: 100%;\n",
       "  overflow: auto;\n",
       "}\n",
       "\n",
       "#sk-container-id-4 input.sk-toggleable__control:checked~label.sk-toggleable__label-arrow:before {\n",
       "  content: \"▾\";\n",
       "}\n",
       "\n",
       "/* Pipeline/ColumnTransformer-specific style */\n",
       "\n",
       "#sk-container-id-4 div.sk-label input.sk-toggleable__control:checked~label.sk-toggleable__label {\n",
       "  color: var(--sklearn-color-text);\n",
       "  background-color: var(--sklearn-color-unfitted-level-2);\n",
       "}\n",
       "\n",
       "#sk-container-id-4 div.sk-label.fitted input.sk-toggleable__control:checked~label.sk-toggleable__label {\n",
       "  background-color: var(--sklearn-color-fitted-level-2);\n",
       "}\n",
       "\n",
       "/* Estimator-specific style */\n",
       "\n",
       "/* Colorize estimator box */\n",
       "#sk-container-id-4 div.sk-estimator input.sk-toggleable__control:checked~label.sk-toggleable__label {\n",
       "  /* unfitted */\n",
       "  background-color: var(--sklearn-color-unfitted-level-2);\n",
       "}\n",
       "\n",
       "#sk-container-id-4 div.sk-estimator.fitted input.sk-toggleable__control:checked~label.sk-toggleable__label {\n",
       "  /* fitted */\n",
       "  background-color: var(--sklearn-color-fitted-level-2);\n",
       "}\n",
       "\n",
       "#sk-container-id-4 div.sk-label label.sk-toggleable__label,\n",
       "#sk-container-id-4 div.sk-label label {\n",
       "  /* The background is the default theme color */\n",
       "  color: var(--sklearn-color-text-on-default-background);\n",
       "}\n",
       "\n",
       "/* On hover, darken the color of the background */\n",
       "#sk-container-id-4 div.sk-label:hover label.sk-toggleable__label {\n",
       "  color: var(--sklearn-color-text);\n",
       "  background-color: var(--sklearn-color-unfitted-level-2);\n",
       "}\n",
       "\n",
       "/* Label box, darken color on hover, fitted */\n",
       "#sk-container-id-4 div.sk-label.fitted:hover label.sk-toggleable__label.fitted {\n",
       "  color: var(--sklearn-color-text);\n",
       "  background-color: var(--sklearn-color-fitted-level-2);\n",
       "}\n",
       "\n",
       "/* Estimator label */\n",
       "\n",
       "#sk-container-id-4 div.sk-label label {\n",
       "  font-family: monospace;\n",
       "  font-weight: bold;\n",
       "  display: inline-block;\n",
       "  line-height: 1.2em;\n",
       "}\n",
       "\n",
       "#sk-container-id-4 div.sk-label-container {\n",
       "  text-align: center;\n",
       "}\n",
       "\n",
       "/* Estimator-specific */\n",
       "#sk-container-id-4 div.sk-estimator {\n",
       "  font-family: monospace;\n",
       "  border: 1px dotted var(--sklearn-color-border-box);\n",
       "  border-radius: 0.25em;\n",
       "  box-sizing: border-box;\n",
       "  margin-bottom: 0.5em;\n",
       "  /* unfitted */\n",
       "  background-color: var(--sklearn-color-unfitted-level-0);\n",
       "}\n",
       "\n",
       "#sk-container-id-4 div.sk-estimator.fitted {\n",
       "  /* fitted */\n",
       "  background-color: var(--sklearn-color-fitted-level-0);\n",
       "}\n",
       "\n",
       "/* on hover */\n",
       "#sk-container-id-4 div.sk-estimator:hover {\n",
       "  /* unfitted */\n",
       "  background-color: var(--sklearn-color-unfitted-level-2);\n",
       "}\n",
       "\n",
       "#sk-container-id-4 div.sk-estimator.fitted:hover {\n",
       "  /* fitted */\n",
       "  background-color: var(--sklearn-color-fitted-level-2);\n",
       "}\n",
       "\n",
       "/* Specification for estimator info (e.g. \"i\" and \"?\") */\n",
       "\n",
       "/* Common style for \"i\" and \"?\" */\n",
       "\n",
       ".sk-estimator-doc-link,\n",
       "a:link.sk-estimator-doc-link,\n",
       "a:visited.sk-estimator-doc-link {\n",
       "  float: right;\n",
       "  font-size: smaller;\n",
       "  line-height: 1em;\n",
       "  font-family: monospace;\n",
       "  background-color: var(--sklearn-color-background);\n",
       "  border-radius: 1em;\n",
       "  height: 1em;\n",
       "  width: 1em;\n",
       "  text-decoration: none !important;\n",
       "  margin-left: 1ex;\n",
       "  /* unfitted */\n",
       "  border: var(--sklearn-color-unfitted-level-1) 1pt solid;\n",
       "  color: var(--sklearn-color-unfitted-level-1);\n",
       "}\n",
       "\n",
       ".sk-estimator-doc-link.fitted,\n",
       "a:link.sk-estimator-doc-link.fitted,\n",
       "a:visited.sk-estimator-doc-link.fitted {\n",
       "  /* fitted */\n",
       "  border: var(--sklearn-color-fitted-level-1) 1pt solid;\n",
       "  color: var(--sklearn-color-fitted-level-1);\n",
       "}\n",
       "\n",
       "/* On hover */\n",
       "div.sk-estimator:hover .sk-estimator-doc-link:hover,\n",
       ".sk-estimator-doc-link:hover,\n",
       "div.sk-label-container:hover .sk-estimator-doc-link:hover,\n",
       ".sk-estimator-doc-link:hover {\n",
       "  /* unfitted */\n",
       "  background-color: var(--sklearn-color-unfitted-level-3);\n",
       "  color: var(--sklearn-color-background);\n",
       "  text-decoration: none;\n",
       "}\n",
       "\n",
       "div.sk-estimator.fitted:hover .sk-estimator-doc-link.fitted:hover,\n",
       ".sk-estimator-doc-link.fitted:hover,\n",
       "div.sk-label-container:hover .sk-estimator-doc-link.fitted:hover,\n",
       ".sk-estimator-doc-link.fitted:hover {\n",
       "  /* fitted */\n",
       "  background-color: var(--sklearn-color-fitted-level-3);\n",
       "  color: var(--sklearn-color-background);\n",
       "  text-decoration: none;\n",
       "}\n",
       "\n",
       "/* Span, style for the box shown on hovering the info icon */\n",
       ".sk-estimator-doc-link span {\n",
       "  display: none;\n",
       "  z-index: 9999;\n",
       "  position: relative;\n",
       "  font-weight: normal;\n",
       "  right: .2ex;\n",
       "  padding: .5ex;\n",
       "  margin: .5ex;\n",
       "  width: min-content;\n",
       "  min-width: 20ex;\n",
       "  max-width: 50ex;\n",
       "  color: var(--sklearn-color-text);\n",
       "  box-shadow: 2pt 2pt 4pt #999;\n",
       "  /* unfitted */\n",
       "  background: var(--sklearn-color-unfitted-level-0);\n",
       "  border: .5pt solid var(--sklearn-color-unfitted-level-3);\n",
       "}\n",
       "\n",
       ".sk-estimator-doc-link.fitted span {\n",
       "  /* fitted */\n",
       "  background: var(--sklearn-color-fitted-level-0);\n",
       "  border: var(--sklearn-color-fitted-level-3);\n",
       "}\n",
       "\n",
       ".sk-estimator-doc-link:hover span {\n",
       "  display: block;\n",
       "}\n",
       "\n",
       "/* \"?\"-specific style due to the `<a>` HTML tag */\n",
       "\n",
       "#sk-container-id-4 a.estimator_doc_link {\n",
       "  float: right;\n",
       "  font-size: 1rem;\n",
       "  line-height: 1em;\n",
       "  font-family: monospace;\n",
       "  background-color: var(--sklearn-color-background);\n",
       "  border-radius: 1rem;\n",
       "  height: 1rem;\n",
       "  width: 1rem;\n",
       "  text-decoration: none;\n",
       "  /* unfitted */\n",
       "  color: var(--sklearn-color-unfitted-level-1);\n",
       "  border: var(--sklearn-color-unfitted-level-1) 1pt solid;\n",
       "}\n",
       "\n",
       "#sk-container-id-4 a.estimator_doc_link.fitted {\n",
       "  /* fitted */\n",
       "  border: var(--sklearn-color-fitted-level-1) 1pt solid;\n",
       "  color: var(--sklearn-color-fitted-level-1);\n",
       "}\n",
       "\n",
       "/* On hover */\n",
       "#sk-container-id-4 a.estimator_doc_link:hover {\n",
       "  /* unfitted */\n",
       "  background-color: var(--sklearn-color-unfitted-level-3);\n",
       "  color: var(--sklearn-color-background);\n",
       "  text-decoration: none;\n",
       "}\n",
       "\n",
       "#sk-container-id-4 a.estimator_doc_link.fitted:hover {\n",
       "  /* fitted */\n",
       "  background-color: var(--sklearn-color-fitted-level-3);\n",
       "}\n",
       "</style><div id=\"sk-container-id-4\" class=\"sk-top-container\"><div class=\"sk-text-repr-fallback\"><pre>RandomForestClassifier(random_state=42)</pre><b>In a Jupyter environment, please rerun this cell to show the HTML representation or trust the notebook. <br />On GitHub, the HTML representation is unable to render, please try loading this page with nbviewer.org.</b></div><div class=\"sk-container\" hidden><div class=\"sk-item\"><div class=\"sk-estimator fitted sk-toggleable\"><input class=\"sk-toggleable__control sk-hidden--visually\" id=\"sk-estimator-id-4\" type=\"checkbox\" checked><label for=\"sk-estimator-id-4\" class=\"sk-toggleable__label fitted sk-toggleable__label-arrow fitted\">&nbsp;&nbsp;RandomForestClassifier<a class=\"sk-estimator-doc-link fitted\" rel=\"noreferrer\" target=\"_blank\" href=\"https://scikit-learn.org/1.5/modules/generated/sklearn.ensemble.RandomForestClassifier.html\">?<span>Documentation for RandomForestClassifier</span></a><span class=\"sk-estimator-doc-link fitted\">i<span>Fitted</span></span></label><div class=\"sk-toggleable__content fitted\"><pre>RandomForestClassifier(random_state=42)</pre></div> </div></div></div></div>"
      ],
      "text/plain": [
       "RandomForestClassifier(random_state=42)"
      ]
     },
     "execution_count": 28,
     "metadata": {},
     "output_type": "execute_result"
    }
   ],
   "source": [
    "import pandas as pd\n",
    "from sklearn.model_selection import train_test_split\n",
    "from sklearn.ensemble import RandomForestClassifier\n",
    "from sklearn.metrics import accuracy_score\n",
    "# Initialize the RandomForestClassifier\n",
    "model = RandomForestClassifier(random_state=42)\n",
    "\n",
    "# Train the model on the training data\n",
    "model.fit(X_train, y_train)\n"
   ]
  },
  {
   "cell_type": "code",
   "execution_count": 29,
   "id": "353e4375",
   "metadata": {},
   "outputs": [
    {
     "name": "stdout",
     "output_type": "stream",
     "text": [
      "\n",
      "Model Accuracy: 96.44%\n"
     ]
    }
   ],
   "source": [
    "# Make predictions on the test set\n",
    "y_pred = model.predict(X_test)\n",
    "\n",
    "# Evaluate the model accuracy\n",
    "accuracy = accuracy_score(y_test, y_pred)\n",
    "\n",
    "print(f\"\\nModel Accuracy: {accuracy * 100:.2f}%\")\n"
   ]
  },
  {
   "cell_type": "markdown",
   "id": "abbdc2ce",
   "metadata": {},
   "source": [
    "### Working on RandomForestClassifier model"
   ]
  },
  {
   "cell_type": "code",
   "execution_count": 5,
   "id": "158597ff",
   "metadata": {},
   "outputs": [],
   "source": [
    "from sklearn.ensemble import RandomForestClassifier\n",
    "import joblib"
   ]
  },
  {
   "cell_type": "code",
   "execution_count": 30,
   "id": "4cb344ee",
   "metadata": {
    "scrolled": true
   },
   "outputs": [
    {
     "data": {
      "text/plain": [
       "['your_model.pkl']"
      ]
     },
     "execution_count": 30,
     "metadata": {},
     "output_type": "execute_result"
    }
   ],
   "source": [
    "joblib.dump(model, 'your_model.pkl')"
   ]
  },
  {
   "cell_type": "code",
   "execution_count": 6,
   "id": "08b0c1e9",
   "metadata": {
    "scrolled": true
   },
   "outputs": [],
   "source": [
    "model = joblib.load('your_model.pkl')"
   ]
  },
  {
   "cell_type": "code",
   "execution_count": 40,
   "id": "e1add3b6",
   "metadata": {},
   "outputs": [],
   "source": [
    "online_order = ['0', '1']\n",
    "book_table = ['0', '1']\n",
    "listed_in_type= ['Buffet', 'Cafes', 'Delivery', 'Desserts', 'Dine-out','Drinks & nightlife', 'Pubs and bars']\n",
    "listed_in_city = ['Banashankari', 'Bannerghatta Road', 'Basavanagudi', 'Bellandur','Brigade Road', 'Brookefield', 'BTM', 'Church Street','Electronic City', 'Frazer Town', 'HSR', 'Indiranagar','Jayanagar', 'JP Nagar', 'Kalyan Nagar', 'Kammanahalli','Koramangala 4th Block', 'Koramangala 5th Block','Koramangala 6th Block', 'Koramangala 7th Block', 'Lavelle Road','Malleshwaram', 'Marathahalli', 'MG Road', 'New BEL Road','Old Airport Road', 'Rajajinagar', 'Residency Road','Sarjapur Road', 'Whitefield']\n",
    "other_location_col = ['Banashankari', 'Basavanagudi', 'Other', 'Jayanagar','Kumaraswamy Layout', 'JP Nagar', 'Bannerghatta Road', 'BTM','Bommanahalli', 'Electronic City', 'Wilson Garden', 'Shanti Nagar','Koramangala 5th Block', 'Richmond Road', 'HSR','Koramangala 7th Block', 'Bellandur', 'Sarjapur Road','Marathahalli', 'Whitefield', 'Old Airport Road', 'Indiranagar','Koramangala 1st Block', 'Frazer Town', 'MG Road', 'Brigade Road','Lavelle Road', 'Church Street', 'Ulsoor', 'Residency Road','Shivajinagar', 'Infantry Road', 'St. Marks Road','Cunningham Road', 'Race Course Road', 'Commercial Street','Vasanth Nagar', 'Domlur', 'Koramangala 8th Block', 'Ejipura','Jeevan Bhima Nagar', 'Seshadripuram', 'Kammanahalli','Koramangala 6th Block', 'Majestic', 'Brookefield','Koramangala 3rd Block', 'Koramangala 4th Block', 'Banaswadi','Nagawara', 'Hennur', 'Kalyan Nagar', 'Thippasandra','Malleshwaram', 'Basaveshwara Nagar', 'Rajajinagar', 'Yeshwantpur','New BEL Road']\n",
    "other_rest_type_col = ['Casual Dining', 'Cafe, Casual Dining', 'Quick Bites', 'Cafe','Other', 'Delivery', 'Dessert Parlor', 'Pub', 'Bakery','Delivery, Takeaway', 'Fine Dining', 'Beverage Shop', 'Sweet Shop','Bar', 'Bakery, Quick Bites', 'Quick Bites, Sweet Shop','Beverage Shop, Quick Bites', 'Casual Dining, Pub','Bar, Casual Dining', 'Lounge', 'Food Court', 'Bakery, Cafe','Cafe, Dessert Parlor']\n",
    "other_cuisines_col = ['North Indian, Mughlai', 'Chinese, North Indian', 'Other','South Indian, North Indian', 'North Indian','North Indian, South Indian', 'Pizza, Cafe', 'Cafe, Italian','Cafe', 'Cafe, Chinese', 'Cafe, Continental', 'Cafe, Fast Food','Italian, Fast Food', 'Cafe, Bakery', 'North Indian, Fast Food','Bakery, Desserts', 'Pizza', 'North Indian, Biryani', 'Biryani','North Indian, Chinese', 'Chinese, Thai', 'South Indian','Street Food, Fast Food', 'Burger, Fast Food', 'Pizza, Fast Food','North Indian, Continental', 'Fast Food, Street Food','Ice Cream, Desserts', 'Biryani, North Indian','Italian, Continental', 'Biryani, Fast Food', 'Fast Food, Burger','Desserts, Beverages', 'Italian, North Indian', 'Chinese','Bakery', 'North Indian, Kebab', 'Continental, Italian','Biryani, Chinese', 'Chinese, Continental', 'Fast Food, Rolls','Biryani, South Indian', 'Fast Food', 'South Indian, Chinese','Seafood, North Indian', 'Beverages, Desserts','Mithai, Street Food', 'Desserts', 'Ice Cream','South Indian, Biryani', 'Desserts, Ice Cream','Beverages, Juices', 'Cafe, Beverages', 'Beverages, Ice Cream','Italian, Pizza', 'Salad, Healthy Food', 'Street Food','Fast Food, Pizza', 'Biryani, Andhra', 'Cafe, Burger','Beverages, Sandwich', 'Italian', 'Bengali, Chinese','North Indian, Street Food', 'Arabian', 'Mangalorean, Seafood','Continental, Fast Food', 'Chinese, Fast Food', 'Italian, Salad','Andhra', 'Pizza, Italian', 'Andhra, South Indian','Mithai, Desserts', 'Juices, Beverages', 'Salad, Fast Food','Seafood, Biryani', 'South Indian, Beverages','Beverages, Fast Food', 'South Indian, Fast Food','Cafe, American', 'Street Food, North Indian','South Indian, Street Food', 'Fast Food, Chinese','Juices, Fast Food', 'Fast Food, Desserts','North Indian, Seafood', 'Seafood, Mangalorean','Andhra, North Indian', 'Beverages', 'Continental, Finger Food','Ice Cream, Beverages', 'Mithai', 'Desserts, Fast Food','Tibetan, Momos', 'Juices', 'Tea, Beverages','Healthy Food, North Indian', 'Fast Food, Sandwich','Andhra, Biryani', 'Finger Food', 'Chinese, Momos','Mangalorean, Chinese', 'Continental', 'Mughlai, North Indian','Fast Food, Beverages', 'Street Food, Rolls','North Indian, Italian', 'North Indian, European','Cafe, Healthy Food', 'Cafe, Desserts', 'Desserts, Cafe','Cafe, North Indian', 'Cafe, Sandwich', 'Continental, Burger','Bengali, North Indian', 'Kerala, Seafood', 'Andhra, Chinese','Kerala, South Indian', 'Biryani, Kebab', 'Bengali','Fast Food, North Indian', 'Arabian, North Indian','North Indian, BBQ', 'Mexican, American', 'South Indian, Andhra','Rajasthani', 'Healthy Food', 'Asian, Continental','Street Food, Mithai', 'Continental, North Indian','Kerala, North Indian', 'Continental, American','South Indian, Kerala', 'Mithai, North Indian', 'Chinese, Tibetan','Street Food, Beverages', 'Rajasthani, North Indian','Finger Food, Chinese', 'Bakery, Fast Food', 'Fast Food, Juices','Mexican, Fast Food', 'Continental, Chinese', 'Arabian, Chinese','North Indian, Arabian', 'Desserts, Bakery','Chinese, South Indian', 'Kerala', 'Finger Food, Continental','Maharashtrian', 'North Indian, Kerala', 'Kerala, Chinese','Chinese, Asian', 'European, Continental','Finger Food, North Indian', 'South Indian, Chettinad','Cafe, Salad', 'North Indian, Beverages', 'Continental, Mexican','Biryani, Mughlai', 'Asian, Chinese', 'European, Mediterranean','North Indian, Lucknowi', 'Ice Cream, Cafe', 'Kerala, Biryani','American, North Indian', 'Biryani, Hyderabadi','Healthy Food, Beverages', 'Mithai, Fast Food', 'Modern Indian','European, American', 'Seafood, South Indian','North Indian, Rolls', 'Tibetan, Chinese', 'Continental, Pizza','Bengali, Seafood', 'American, Continental', 'Continental, Asian','Continental, South Indian', 'Bakery, Cafe', 'Cafe, Tea','Continental, Cafe', 'North Indian, Thai', 'European, Italian','Fast Food, Biryani', 'Cafe, Mediterranean','Healthy Food, Sandwich', 'Italian, American','Continental, Mediterranean', 'Goan, Mangalorean', 'Asian','Ice Cream, Bakery', 'Mexican', 'Asian, Japanese','Continental, BBQ', 'Japanese', 'Chettinad, South Indian','Continental, Steak', 'North Indian, Pizza','North Indian, Mediterranean', 'North Indian, Bengali']\n"
   ]
  },
  {
   "cell_type": "code",
   "execution_count": 23,
   "id": "09271ffd",
   "metadata": {},
   "outputs": [
    {
     "name": "stdout",
     "output_type": "stream",
     "text": [
      "Running on local URL:  http://127.0.0.1:7860\n",
      "\n",
      "To create a public link, set `share=True` in `launch()`.\n"
     ]
    },
    {
     "data": {
      "text/html": [
       "<div><iframe src=\"http://127.0.0.1:7860/\" width=\"100%\" height=\"500\" allow=\"autoplay; camera; microphone; clipboard-read; clipboard-write;\" frameborder=\"0\" allowfullscreen></iframe></div>"
      ],
      "text/plain": [
       "<IPython.core.display.HTML object>"
      ]
     },
     "metadata": {},
     "output_type": "display_data"
    },
    {
     "data": {
      "text/plain": []
     },
     "execution_count": 23,
     "metadata": {},
     "output_type": "execute_result"
    }
   ],
   "source": [
    "import gradio as gr\n",
    "import joblib\n",
    "import numpy as np\n",
    "\n",
    "# Load the model\n",
    "model = joblib.load('your_model.pkl')\n",
    "\n",
    "# Define prediction function\n",
    "def predict(dropdown_1, dropdown_2, dropdown_3, dropdown_4, dropdown_5, dropdown_6, dropdown_7, num_input_1, num_input_2):\n",
    "    # Prepare input for model\n",
    "    input_data = np.array([[dropdown_1, dropdown_2, dropdown_3, dropdown_4, dropdown_5, dropdown_6, dropdown_7, num_input_1, num_input_2]])\n",
    "    \n",
    "    # Make prediction\n",
    "    prediction = model.predict(input_data)\n",
    "    \n",
    "    return prediction[0]\n",
    "\n",
    "# Distinct values for dropdowns\n",
    "dropdown_values_1 = ['0', '1']\n",
    "dropdown_values_2 = ['0', '1']\n",
    "dropdown_values_3 = ['Buffet', 'Cafes', 'Delivery', 'Desserts', 'Dine-out','Drinks & nightlife', 'Pubs and bars']\n",
    "dropdown_values_4 = ['Banashankari', 'Bannerghatta Road', 'Basavanagudi', 'Bellandur','Brigade Road', 'Brookefield', 'BTM', 'Church Street','Electronic City', 'Frazer Town', 'HSR', 'Indiranagar','Jayanagar', 'JP Nagar', 'Kalyan Nagar', 'Kammanahalli','Koramangala 4th Block', 'Koramangala 5th Block','Koramangala 6th Block', 'Koramangala 7th Block', 'Lavelle Road','Malleshwaram', 'Marathahalli', 'MG Road', 'New BEL Road','Old Airport Road', 'Rajajinagar', 'Residency Road','Sarjapur Road', 'Whitefield']\n",
    "dropdown_values_5 = ['Banashankari', 'Basavanagudi', 'Other', 'Jayanagar','Kumaraswamy Layout', 'JP Nagar', 'Bannerghatta Road', 'BTM','Bommanahalli', 'Electronic City', 'Wilson Garden', 'Shanti Nagar','Koramangala 5th Block', 'Richmond Road', 'HSR','Koramangala 7th Block', 'Bellandur', 'Sarjapur Road','Marathahalli', 'Whitefield', 'Old Airport Road', 'Indiranagar','Koramangala 1st Block', 'Frazer Town', 'MG Road', 'Brigade Road','Lavelle Road', 'Church Street', 'Ulsoor', 'Residency Road','Shivajinagar', 'Infantry Road', 'St. Marks Road','Cunningham Road', 'Race Course Road', 'Commercial Street','Vasanth Nagar', 'Domlur', 'Koramangala 8th Block', 'Ejipura','Jeevan Bhima Nagar', 'Seshadripuram', 'Kammanahalli','Koramangala 6th Block', 'Majestic', 'Brookefield','Koramangala 3rd Block', 'Koramangala 4th Block', 'Banaswadi','Nagawara', 'Hennur', 'Kalyan Nagar', 'Thippasandra','Malleshwaram', 'Basaveshwara Nagar', 'Rajajinagar', 'Yeshwantpur','New BEL Road']\n",
    "dropdown_values_6 = ['Casual Dining', 'Cafe, Casual Dining', 'Quick Bites', 'Cafe','Other', 'Delivery', 'Dessert Parlor', 'Pub', 'Bakery','Delivery, Takeaway', 'Fine Dining', 'Beverage Shop', 'Sweet Shop','Bar', 'Bakery, Quick Bites', 'Quick Bites, Sweet Shop','Beverage Shop, Quick Bites', 'Casual Dining, Pub','Bar, Casual Dining', 'Lounge', 'Food Court', 'Bakery, Cafe','Cafe, Dessert Parlor']\n",
    "dropdown_values_7 = ['North Indian, Mughlai', 'Chinese, North Indian', 'Other','South Indian, North Indian', 'North Indian','North Indian, South Indian', 'Pizza, Cafe', 'Cafe, Italian','Cafe', 'Cafe, Chinese', 'Cafe, Continental', 'Cafe, Fast Food','Italian, Fast Food', 'Cafe, Bakery', 'North Indian, Fast Food','Bakery, Desserts', 'Pizza', 'North Indian, Biryani', 'Biryani','North Indian, Chinese', 'Chinese, Thai', 'South Indian','Street Food, Fast Food', 'Burger, Fast Food', 'Pizza, Fast Food','North Indian, Continental', 'Fast Food, Street Food','Ice Cream, Desserts', 'Biryani, North Indian','Italian, Continental', 'Biryani, Fast Food', 'Fast Food, Burger','Desserts, Beverages', 'Italian, North Indian', 'Chinese','Bakery', 'North Indian, Kebab', 'Continental, Italian','Biryani, Chinese', 'Chinese, Continental', 'Fast Food, Rolls','Biryani, South Indian', 'Fast Food', 'South Indian, Chinese','Seafood, North Indian', 'Beverages, Desserts','Mithai, Street Food', 'Desserts', 'Ice Cream','South Indian, Biryani', 'Desserts, Ice Cream','Beverages, Juices', 'Cafe, Beverages', 'Beverages, Ice Cream','Italian, Pizza', 'Salad, Healthy Food', 'Street Food','Fast Food, Pizza', 'Biryani, Andhra', 'Cafe, Burger','Beverages, Sandwich', 'Italian', 'Bengali, Chinese','North Indian, Street Food', 'Arabian', 'Mangalorean, Seafood','Continental, Fast Food', 'Chinese, Fast Food', 'Italian, Salad','Andhra', 'Pizza, Italian', 'Andhra, South Indian','Mithai, Desserts', 'Juices, Beverages', 'Salad, Fast Food','Seafood, Biryani', 'South Indian, Beverages','Beverages, Fast Food', 'South Indian, Fast Food','Cafe, American', 'Street Food, North Indian','South Indian, Street Food', 'Fast Food, Chinese','Juices, Fast Food', 'Fast Food, Desserts','North Indian, Seafood', 'Seafood, Mangalorean','Andhra, North Indian', 'Beverages', 'Continental, Finger Food','Ice Cream, Beverages', 'Mithai', 'Desserts, Fast Food','Tibetan, Momos', 'Juices', 'Tea, Beverages','Healthy Food, North Indian', 'Fast Food, Sandwich','Andhra, Biryani', 'Finger Food', 'Chinese, Momos','Mangalorean, Chinese', 'Continental', 'Mughlai, North Indian','Fast Food, Beverages', 'Street Food, Rolls','North Indian, Italian', 'North Indian, European','Cafe, Healthy Food', 'Cafe, Desserts', 'Desserts, Cafe','Cafe, North Indian', 'Cafe, Sandwich', 'Continental, Burger','Bengali, North Indian', 'Kerala, Seafood', 'Andhra, Chinese','Kerala, South Indian', 'Biryani, Kebab', 'Bengali','Fast Food, North Indian', 'Arabian, North Indian','North Indian, BBQ', 'Mexican, American', 'South Indian, Andhra','Rajasthani', 'Healthy Food', 'Asian, Continental','Street Food, Mithai', 'Continental, North Indian','Kerala, North Indian', 'Continental, American','South Indian, Kerala', 'Mithai, North Indian', 'Chinese, Tibetan','Street Food, Beverages', 'Rajasthani, North Indian','Finger Food, Chinese', 'Bakery, Fast Food', 'Fast Food, Juices','Mexican, Fast Food', 'Continental, Chinese', 'Arabian, Chinese','North Indian, Arabian', 'Desserts, Bakery','Chinese, South Indian', 'Kerala', 'Finger Food, Continental','Maharashtrian', 'North Indian, Kerala', 'Kerala, Chinese','Chinese, Asian', 'European, Continental','Finger Food, North Indian', 'South Indian, Chettinad','Cafe, Salad', 'North Indian, Beverages', 'Continental, Mexican','Biryani, Mughlai', 'Asian, Chinese', 'European, Mediterranean','North Indian, Lucknowi', 'Ice Cream, Cafe', 'Kerala, Biryani','American, North Indian', 'Biryani, Hyderabadi','Healthy Food, Beverages', 'Mithai, Fast Food', 'Modern Indian','European, American', 'Seafood, South Indian','North Indian, Rolls', 'Tibetan, Chinese', 'Continental, Pizza','Bengali, Seafood', 'American, Continental', 'Continental, Asian','Continental, South Indian', 'Bakery, Cafe', 'Cafe, Tea','Continental, Cafe', 'North Indian, Thai', 'European, Italian','Fast Food, Biryani', 'Cafe, Mediterranean','Healthy Food, Sandwich', 'Italian, American','Continental, Mediterranean', 'Goan, Mangalorean', 'Asian','Ice Cream, Bakery', 'Mexican', 'Asian, Japanese','Continental, BBQ', 'Japanese', 'Chettinad, South Indian','Continental, Steak', 'North Indian, Pizza','North Indian, Mediterranean', 'North Indian, Bengali']\n",
    "\n",
    "# Create Gradio interface\n",
    "with gr.Blocks() as interface:\n",
    "    gr.Markdown(\"# Model Prediction\")\n",
    "    gr.Markdown(\"Select values from the dropdowns and enter numbers to get a prediction.\")\n",
    "    \n",
    "    # Create dropdown lists\n",
    "    dropdown_1 = gr.Dropdown(choices=dropdown_values_1, label=\"online_order\")\n",
    "    dropdown_2 = gr.Dropdown(choices=dropdown_values_2, label=\"book_table\")\n",
    "    dropdown_3 = gr.Dropdown(choices=dropdown_values_3, label=\"listed_in_type\")\n",
    "    dropdown_4 = gr.Dropdown(choices=dropdown_values_4, label=\"listed_in_city\")\n",
    "    dropdown_5 = gr.Dropdown(choices=dropdown_values_5, label=\"other_location_col\")\n",
    "    dropdown_6 = gr.Dropdown(choices=dropdown_values_6, label=\"other_rest_type_col\")\n",
    "    dropdown_7 = gr.Dropdown(choices=dropdown_values_7, label=\"other_cuisines_col\")\n",
    "    \n",
    "    # Numerical inputs\n",
    "    num_input_1 = gr.Number(label=\"approx_cost\")\n",
    "    num_input_2 = gr.Number(label=\"votes number\")\n",
    "    \n",
    "    # Output\n",
    "    output = gr.Textbox(label=\"Prediction\")\n",
    "\n",
    "    # Predict button\n",
    "    predict_button = gr.Button(\"Predict\")\n",
    "    \n",
    "    # Set the prediction function to be called on button click\n",
    "    predict_button.click(\n",
    "        fn=predict,\n",
    "        inputs=[dropdown_1, dropdown_2, dropdown_3, dropdown_4, dropdown_5, dropdown_6, dropdown_7, num_input_1, num_input_2],\n",
    "        outputs=output\n",
    "    )\n",
    "\n",
    "# Launch the app\n",
    "interface.launch()\n"
   ]
  },
  {
   "cell_type": "code",
   "execution_count": null,
   "id": "2ad6f4b6",
   "metadata": {},
   "outputs": [],
   "source": []
  }
 ],
 "metadata": {
  "kernelspec": {
   "display_name": "Python 3 (ipykernel)",
   "language": "python",
   "name": "python3"
  },
  "language_info": {
   "codemirror_mode": {
    "name": "ipython",
    "version": 3
   },
   "file_extension": ".py",
   "mimetype": "text/x-python",
   "name": "python",
   "nbconvert_exporter": "python",
   "pygments_lexer": "ipython3",
   "version": "3.11.5"
  }
 },
 "nbformat": 4,
 "nbformat_minor": 5
}
